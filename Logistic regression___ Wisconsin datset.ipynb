{
 "cells": [
  {
   "cell_type": "code",
   "execution_count": 1,
   "metadata": {},
   "outputs": [],
   "source": [
    "import numpy as np\n",
    "import pandas as pd\n",
    "\n",
    "import matplotlib.pyplot as plt\n",
    "%matplotlib inline\n",
    "import seaborn as sns\n",
    "import warnings\n",
    "warnings.filterwarnings('ignore')\n",
    "\n",
    "from sklearn.linear_model import LogisticRegression\n",
    "from sklearn.model_selection import train_test_split\n",
    "from sklearn.metrics import confusion_matrix, classification_report, precision_recall_curve, recall_score"
   ]
  },
  {
   "cell_type": "code",
   "execution_count": 2,
   "metadata": {},
   "outputs": [],
   "source": [
    "diagnos_data = pd.read_csv(r\"D:\\datascience__\\end to end data sets-20230507T155014Z-001\\end to end data sets\\breast-cancer-data.csv\")"
   ]
  },
  {
   "cell_type": "markdown",
   "metadata": {},
   "source": [
    "Dataset: Features are computed from a digitized image of a fine needle aspirate (FNA) of a breast mass. They describe characteristics of the cell nuclei present in the image."
   ]
  },
  {
   "cell_type": "code",
   "execution_count": 3,
   "metadata": {},
   "outputs": [
    {
     "data": {
      "text/plain": [
       "(569, 33)"
      ]
     },
     "execution_count": 3,
     "metadata": {},
     "output_type": "execute_result"
    }
   ],
   "source": [
    "diagnos_data.shape"
   ]
  },
  {
   "cell_type": "code",
   "execution_count": 4,
   "metadata": {
    "scrolled": true
   },
   "outputs": [
    {
     "data": {
      "text/html": [
       "<div>\n",
       "<style scoped>\n",
       "    .dataframe tbody tr th:only-of-type {\n",
       "        vertical-align: middle;\n",
       "    }\n",
       "\n",
       "    .dataframe tbody tr th {\n",
       "        vertical-align: top;\n",
       "    }\n",
       "\n",
       "    .dataframe thead th {\n",
       "        text-align: right;\n",
       "    }\n",
       "</style>\n",
       "<table border=\"1\" class=\"dataframe\">\n",
       "  <thead>\n",
       "    <tr style=\"text-align: right;\">\n",
       "      <th></th>\n",
       "      <th>0</th>\n",
       "      <th>1</th>\n",
       "      <th>2</th>\n",
       "      <th>3</th>\n",
       "      <th>4</th>\n",
       "    </tr>\n",
       "  </thead>\n",
       "  <tbody>\n",
       "    <tr>\n",
       "      <th>id</th>\n",
       "      <td>842302</td>\n",
       "      <td>842517</td>\n",
       "      <td>84300903</td>\n",
       "      <td>84348301</td>\n",
       "      <td>84358402</td>\n",
       "    </tr>\n",
       "    <tr>\n",
       "      <th>diagnosis</th>\n",
       "      <td>M</td>\n",
       "      <td>M</td>\n",
       "      <td>M</td>\n",
       "      <td>M</td>\n",
       "      <td>M</td>\n",
       "    </tr>\n",
       "    <tr>\n",
       "      <th>radius_mean</th>\n",
       "      <td>17.99</td>\n",
       "      <td>20.57</td>\n",
       "      <td>19.69</td>\n",
       "      <td>11.42</td>\n",
       "      <td>20.29</td>\n",
       "    </tr>\n",
       "    <tr>\n",
       "      <th>texture_mean</th>\n",
       "      <td>10.38</td>\n",
       "      <td>17.77</td>\n",
       "      <td>21.25</td>\n",
       "      <td>20.38</td>\n",
       "      <td>14.34</td>\n",
       "    </tr>\n",
       "    <tr>\n",
       "      <th>perimeter_mean</th>\n",
       "      <td>122.8</td>\n",
       "      <td>132.9</td>\n",
       "      <td>130.0</td>\n",
       "      <td>77.58</td>\n",
       "      <td>135.1</td>\n",
       "    </tr>\n",
       "    <tr>\n",
       "      <th>area_mean</th>\n",
       "      <td>1001.0</td>\n",
       "      <td>1326.0</td>\n",
       "      <td>1203.0</td>\n",
       "      <td>386.1</td>\n",
       "      <td>1297.0</td>\n",
       "    </tr>\n",
       "    <tr>\n",
       "      <th>smoothness_mean</th>\n",
       "      <td>0.1184</td>\n",
       "      <td>0.08474</td>\n",
       "      <td>0.1096</td>\n",
       "      <td>0.1425</td>\n",
       "      <td>0.1003</td>\n",
       "    </tr>\n",
       "    <tr>\n",
       "      <th>compactness_mean</th>\n",
       "      <td>0.2776</td>\n",
       "      <td>0.07864</td>\n",
       "      <td>0.1599</td>\n",
       "      <td>0.2839</td>\n",
       "      <td>0.1328</td>\n",
       "    </tr>\n",
       "    <tr>\n",
       "      <th>concavity_mean</th>\n",
       "      <td>0.3001</td>\n",
       "      <td>0.0869</td>\n",
       "      <td>0.1974</td>\n",
       "      <td>0.2414</td>\n",
       "      <td>0.198</td>\n",
       "    </tr>\n",
       "    <tr>\n",
       "      <th>concave points_mean</th>\n",
       "      <td>0.1471</td>\n",
       "      <td>0.07017</td>\n",
       "      <td>0.1279</td>\n",
       "      <td>0.1052</td>\n",
       "      <td>0.1043</td>\n",
       "    </tr>\n",
       "    <tr>\n",
       "      <th>symmetry_mean</th>\n",
       "      <td>0.2419</td>\n",
       "      <td>0.1812</td>\n",
       "      <td>0.2069</td>\n",
       "      <td>0.2597</td>\n",
       "      <td>0.1809</td>\n",
       "    </tr>\n",
       "    <tr>\n",
       "      <th>fractal_dimension_mean</th>\n",
       "      <td>0.07871</td>\n",
       "      <td>0.05667</td>\n",
       "      <td>0.05999</td>\n",
       "      <td>0.09744</td>\n",
       "      <td>0.05883</td>\n",
       "    </tr>\n",
       "    <tr>\n",
       "      <th>radius_se</th>\n",
       "      <td>1.095</td>\n",
       "      <td>0.5435</td>\n",
       "      <td>0.7456</td>\n",
       "      <td>0.4956</td>\n",
       "      <td>0.7572</td>\n",
       "    </tr>\n",
       "    <tr>\n",
       "      <th>texture_se</th>\n",
       "      <td>0.9053</td>\n",
       "      <td>0.7339</td>\n",
       "      <td>0.7869</td>\n",
       "      <td>1.156</td>\n",
       "      <td>0.7813</td>\n",
       "    </tr>\n",
       "    <tr>\n",
       "      <th>perimeter_se</th>\n",
       "      <td>8.589</td>\n",
       "      <td>3.398</td>\n",
       "      <td>4.585</td>\n",
       "      <td>3.445</td>\n",
       "      <td>5.438</td>\n",
       "    </tr>\n",
       "    <tr>\n",
       "      <th>area_se</th>\n",
       "      <td>153.4</td>\n",
       "      <td>74.08</td>\n",
       "      <td>94.03</td>\n",
       "      <td>27.23</td>\n",
       "      <td>94.44</td>\n",
       "    </tr>\n",
       "    <tr>\n",
       "      <th>smoothness_se</th>\n",
       "      <td>0.006399</td>\n",
       "      <td>0.005225</td>\n",
       "      <td>0.00615</td>\n",
       "      <td>0.00911</td>\n",
       "      <td>0.01149</td>\n",
       "    </tr>\n",
       "    <tr>\n",
       "      <th>compactness_se</th>\n",
       "      <td>0.04904</td>\n",
       "      <td>0.01308</td>\n",
       "      <td>0.04006</td>\n",
       "      <td>0.07458</td>\n",
       "      <td>0.02461</td>\n",
       "    </tr>\n",
       "    <tr>\n",
       "      <th>concavity_se</th>\n",
       "      <td>0.05373</td>\n",
       "      <td>0.0186</td>\n",
       "      <td>0.03832</td>\n",
       "      <td>0.05661</td>\n",
       "      <td>0.05688</td>\n",
       "    </tr>\n",
       "    <tr>\n",
       "      <th>concave points_se</th>\n",
       "      <td>0.01587</td>\n",
       "      <td>0.0134</td>\n",
       "      <td>0.02058</td>\n",
       "      <td>0.01867</td>\n",
       "      <td>0.01885</td>\n",
       "    </tr>\n",
       "    <tr>\n",
       "      <th>symmetry_se</th>\n",
       "      <td>0.03003</td>\n",
       "      <td>0.01389</td>\n",
       "      <td>0.0225</td>\n",
       "      <td>0.05963</td>\n",
       "      <td>0.01756</td>\n",
       "    </tr>\n",
       "    <tr>\n",
       "      <th>fractal_dimension_se</th>\n",
       "      <td>0.006193</td>\n",
       "      <td>0.003532</td>\n",
       "      <td>0.004571</td>\n",
       "      <td>0.009208</td>\n",
       "      <td>0.005115</td>\n",
       "    </tr>\n",
       "    <tr>\n",
       "      <th>radius_worst</th>\n",
       "      <td>25.38</td>\n",
       "      <td>24.99</td>\n",
       "      <td>23.57</td>\n",
       "      <td>14.91</td>\n",
       "      <td>22.54</td>\n",
       "    </tr>\n",
       "    <tr>\n",
       "      <th>texture_worst</th>\n",
       "      <td>17.33</td>\n",
       "      <td>23.41</td>\n",
       "      <td>25.53</td>\n",
       "      <td>26.5</td>\n",
       "      <td>16.67</td>\n",
       "    </tr>\n",
       "    <tr>\n",
       "      <th>perimeter_worst</th>\n",
       "      <td>184.6</td>\n",
       "      <td>158.8</td>\n",
       "      <td>152.5</td>\n",
       "      <td>98.87</td>\n",
       "      <td>152.2</td>\n",
       "    </tr>\n",
       "    <tr>\n",
       "      <th>area_worst</th>\n",
       "      <td>2019.0</td>\n",
       "      <td>1956.0</td>\n",
       "      <td>1709.0</td>\n",
       "      <td>567.7</td>\n",
       "      <td>1575.0</td>\n",
       "    </tr>\n",
       "    <tr>\n",
       "      <th>smoothness_worst</th>\n",
       "      <td>0.1622</td>\n",
       "      <td>0.1238</td>\n",
       "      <td>0.1444</td>\n",
       "      <td>0.2098</td>\n",
       "      <td>0.1374</td>\n",
       "    </tr>\n",
       "    <tr>\n",
       "      <th>compactness_worst</th>\n",
       "      <td>0.6656</td>\n",
       "      <td>0.1866</td>\n",
       "      <td>0.4245</td>\n",
       "      <td>0.8663</td>\n",
       "      <td>0.205</td>\n",
       "    </tr>\n",
       "    <tr>\n",
       "      <th>concavity_worst</th>\n",
       "      <td>0.7119</td>\n",
       "      <td>0.2416</td>\n",
       "      <td>0.4504</td>\n",
       "      <td>0.6869</td>\n",
       "      <td>0.4</td>\n",
       "    </tr>\n",
       "    <tr>\n",
       "      <th>concave points_worst</th>\n",
       "      <td>0.2654</td>\n",
       "      <td>0.186</td>\n",
       "      <td>0.243</td>\n",
       "      <td>0.2575</td>\n",
       "      <td>0.1625</td>\n",
       "    </tr>\n",
       "    <tr>\n",
       "      <th>symmetry_worst</th>\n",
       "      <td>0.4601</td>\n",
       "      <td>0.275</td>\n",
       "      <td>0.3613</td>\n",
       "      <td>0.6638</td>\n",
       "      <td>0.2364</td>\n",
       "    </tr>\n",
       "    <tr>\n",
       "      <th>fractal_dimension_worst</th>\n",
       "      <td>0.1189</td>\n",
       "      <td>0.08902</td>\n",
       "      <td>0.08758</td>\n",
       "      <td>0.173</td>\n",
       "      <td>0.07678</td>\n",
       "    </tr>\n",
       "    <tr>\n",
       "      <th>Unnamed: 32</th>\n",
       "      <td>NaN</td>\n",
       "      <td>NaN</td>\n",
       "      <td>NaN</td>\n",
       "      <td>NaN</td>\n",
       "      <td>NaN</td>\n",
       "    </tr>\n",
       "  </tbody>\n",
       "</table>\n",
       "</div>"
      ],
      "text/plain": [
       "                                0         1         2         3         4\n",
       "id                         842302    842517  84300903  84348301  84358402\n",
       "diagnosis                       M         M         M         M         M\n",
       "radius_mean                 17.99     20.57     19.69     11.42     20.29\n",
       "texture_mean                10.38     17.77     21.25     20.38     14.34\n",
       "perimeter_mean              122.8     132.9     130.0     77.58     135.1\n",
       "area_mean                  1001.0    1326.0    1203.0     386.1    1297.0\n",
       "smoothness_mean            0.1184   0.08474    0.1096    0.1425    0.1003\n",
       "compactness_mean           0.2776   0.07864    0.1599    0.2839    0.1328\n",
       "concavity_mean             0.3001    0.0869    0.1974    0.2414     0.198\n",
       "concave points_mean        0.1471   0.07017    0.1279    0.1052    0.1043\n",
       "symmetry_mean              0.2419    0.1812    0.2069    0.2597    0.1809\n",
       "fractal_dimension_mean    0.07871   0.05667   0.05999   0.09744   0.05883\n",
       "radius_se                   1.095    0.5435    0.7456    0.4956    0.7572\n",
       "texture_se                 0.9053    0.7339    0.7869     1.156    0.7813\n",
       "perimeter_se                8.589     3.398     4.585     3.445     5.438\n",
       "area_se                     153.4     74.08     94.03     27.23     94.44\n",
       "smoothness_se            0.006399  0.005225   0.00615   0.00911   0.01149\n",
       "compactness_se            0.04904   0.01308   0.04006   0.07458   0.02461\n",
       "concavity_se              0.05373    0.0186   0.03832   0.05661   0.05688\n",
       "concave points_se         0.01587    0.0134   0.02058   0.01867   0.01885\n",
       "symmetry_se               0.03003   0.01389    0.0225   0.05963   0.01756\n",
       "fractal_dimension_se     0.006193  0.003532  0.004571  0.009208  0.005115\n",
       "radius_worst                25.38     24.99     23.57     14.91     22.54\n",
       "texture_worst               17.33     23.41     25.53      26.5     16.67\n",
       "perimeter_worst             184.6     158.8     152.5     98.87     152.2\n",
       "area_worst                 2019.0    1956.0    1709.0     567.7    1575.0\n",
       "smoothness_worst           0.1622    0.1238    0.1444    0.2098    0.1374\n",
       "compactness_worst          0.6656    0.1866    0.4245    0.8663     0.205\n",
       "concavity_worst            0.7119    0.2416    0.4504    0.6869       0.4\n",
       "concave points_worst       0.2654     0.186     0.243    0.2575    0.1625\n",
       "symmetry_worst             0.4601     0.275    0.3613    0.6638    0.2364\n",
       "fractal_dimension_worst    0.1189   0.08902   0.08758     0.173   0.07678\n",
       "Unnamed: 32                   NaN       NaN       NaN       NaN       NaN"
      ]
     },
     "execution_count": 4,
     "metadata": {},
     "output_type": "execute_result"
    }
   ],
   "source": [
    "diagnos_data.head().T"
   ]
  },
  {
   "cell_type": "markdown",
   "metadata": {},
   "source": [
    "Attribute Information:\n",
    "\n",
    "1) ID number\n",
    "\n",
    "2) Diagnosis (M = malignant, B = benign)\n",
    "\n",
    "3-32):\n",
    "\n",
    "Ten real-valued features are computed for each cell nucleus:\n",
    "\n",
    "a) radius (mean of distances from center to points on the perimeter)\n",
    "\n",
    "b) texture (standard deviation of gray-scale values)\n",
    "\n",
    "c) perimeter\n",
    "\n",
    "d) area\n",
    "\n",
    "e) smoothness (local variation in radius lengths)\n",
    "\n",
    "f) compactness (perimeter^2 / area - 1.0)\n",
    "\n",
    "g) concavity (severity of concave portions of the contour)\n",
    "\n",
    "h) concave points (number of concave portions of the contour)\n",
    "\n",
    "i) symmetry\n",
    "\n",
    "j) fractal dimension (\"coastline approximation\" - 1)\n",
    "\n",
    "The mean, standard error and \"worst\" or largest (mean of the three\n",
    "largest values) of these features were computed for each image,\n",
    "resulting in 30 features. For instance, field 3 is Mean Radius, field\n",
    "13 is Radius SE, field 23 is Worst Radius.\n",
    "\n",
    "All feature values are recoded with four significant digits.\n",
    "\n",
    "Missing attribute values: none\n",
    "\n",
    "Class distribution: 357 benign, 212 malignant"
   ]
  },
  {
   "cell_type": "code",
   "execution_count": 5,
   "metadata": {
    "scrolled": true
   },
   "outputs": [
    {
     "name": "stdout",
     "output_type": "stream",
     "text": [
      "<class 'pandas.core.frame.DataFrame'>\n",
      "RangeIndex: 569 entries, 0 to 568\n",
      "Data columns (total 33 columns):\n",
      " #   Column                   Non-Null Count  Dtype  \n",
      "---  ------                   --------------  -----  \n",
      " 0   id                       569 non-null    int64  \n",
      " 1   diagnosis                569 non-null    object \n",
      " 2   radius_mean              569 non-null    float64\n",
      " 3   texture_mean             569 non-null    float64\n",
      " 4   perimeter_mean           569 non-null    float64\n",
      " 5   area_mean                569 non-null    float64\n",
      " 6   smoothness_mean          569 non-null    float64\n",
      " 7   compactness_mean         569 non-null    float64\n",
      " 8   concavity_mean           569 non-null    float64\n",
      " 9   concave points_mean      569 non-null    float64\n",
      " 10  symmetry_mean            569 non-null    float64\n",
      " 11  fractal_dimension_mean   569 non-null    float64\n",
      " 12  radius_se                569 non-null    float64\n",
      " 13  texture_se               569 non-null    float64\n",
      " 14  perimeter_se             569 non-null    float64\n",
      " 15  area_se                  569 non-null    float64\n",
      " 16  smoothness_se            569 non-null    float64\n",
      " 17  compactness_se           569 non-null    float64\n",
      " 18  concavity_se             569 non-null    float64\n",
      " 19  concave points_se        569 non-null    float64\n",
      " 20  symmetry_se              569 non-null    float64\n",
      " 21  fractal_dimension_se     569 non-null    float64\n",
      " 22  radius_worst             569 non-null    float64\n",
      " 23  texture_worst            569 non-null    float64\n",
      " 24  perimeter_worst          569 non-null    float64\n",
      " 25  area_worst               569 non-null    float64\n",
      " 26  smoothness_worst         569 non-null    float64\n",
      " 27  compactness_worst        569 non-null    float64\n",
      " 28  concavity_worst          569 non-null    float64\n",
      " 29  concave points_worst     569 non-null    float64\n",
      " 30  symmetry_worst           569 non-null    float64\n",
      " 31  fractal_dimension_worst  569 non-null    float64\n",
      " 32  Unnamed: 32              0 non-null      float64\n",
      "dtypes: float64(31), int64(1), object(1)\n",
      "memory usage: 146.8+ KB\n"
     ]
    }
   ],
   "source": [
    "diagnos_data.info()"
   ]
  },
  {
   "cell_type": "markdown",
   "metadata": {},
   "source": [
    "The data types are mostly of 'int' types. Let's convert the target variable 'diagnosis' from 'object' to 'category' type.\n",
    "\n",
    "There's no null values in the dataset except the column 'Unnamed: 32'.\n",
    "\n",
    "The columns: id, Unnamed: 32 are insignificant to the data analysis process. So, let's drop them."
   ]
  },
  {
   "cell_type": "code",
   "execution_count": 6,
   "metadata": {},
   "outputs": [],
   "source": [
    "diagnos_data['diagnosis'] = diagnos_data['diagnosis'].astype(\"category\")"
   ]
  },
  {
   "cell_type": "code",
   "execution_count": 7,
   "metadata": {},
   "outputs": [],
   "source": [
    "diagnos_data.drop(['id', 'Unnamed: 32'], axis = 1, inplace = True)"
   ]
  },
  {
   "cell_type": "code",
   "execution_count": 9,
   "metadata": {},
   "outputs": [
    {
     "data": {
      "text/plain": [
       "<Figure size 1080x432 with 0 Axes>"
      ]
     },
     "metadata": {},
     "output_type": "display_data"
    },
    {
     "data": {
      "image/png": "[encoded data removed]",
      "text/plain": [
       "<Figure size 720x576 with 2 Axes>"
      ]
     },
     "metadata": {
      "needs_background": "light"
     },
     "output_type": "display_data"
    }
   ],
   "source": [
    "#Univariate Analysis of Target Variable\n",
    "count = diagnos_data.diagnosis.value_counts()\n",
    "labels = 'Benign', 'Malignant'\n",
    "\n",
    "plt.figure(figsize=(15,6))\n",
    "fig,ax = plt.subplots(figsize=(10,8))\n",
    "\n",
    "plt.subplot(1,2,1)\n",
    "sns.countplot(x ='diagnosis', data=diagnos_data, palette=\"Set2\")\n",
    "plt.title(\"Diagnosis Disribution\",fontweight=\"black\",size=20,pad=20)\n",
    "\n",
    "plt.subplot(1,2,2)\n",
    "plt.pie(count.values, labels=labels, autopct=\"%1.1f%%\",colors=sns.set_palette(\"Set2\"),\n",
    "        textprops={\"fontweight\":\"black\"})\n",
    "plt.title(\"Diagnosis Disribution\",fontweight=\"black\",size=20,pad=20)\n",
    "plt.show()"
   ]
  },
  {
   "cell_type": "markdown",
   "metadata": {},
   "source": [
    "62% of data is benign and 37% is malignant."
   ]
  },
  {
   "cell_type": "code",
   "execution_count": 10,
   "metadata": {},
   "outputs": [],
   "source": [
    "#Bi-variate Analysis\n",
    "def bivariate_cat(data,col1,col2,rot):\n",
    "    cross_tab = pd.crosstab(data[col1], data[col2]).apply(lambda x: x/x.sum()*100, axis=1).round(2)\n",
    "    ct_exit = cross_tab['M'].sort_values(ascending=False)\n",
    "    ct_exit.plot.bar(figsize=(12,5))\n",
    "    plt.xlabel('{}'.format(col1))\n",
    "    plt.ylabel('% of Malignant diagnosis'.format(col1))\n",
    "    plt.title('{} Vs diagnosis'.format(col1))\n",
    "    plt.xticks(rotation=rot)\n",
    "    plt.show()\n",
    "    return ct_exit"
   ]
  },
  {
   "cell_type": "code",
   "execution_count": 11,
   "metadata": {},
   "outputs": [
    {
     "data": {
      "text/plain": [
       "(6.981, 28.11)"
      ]
     },
     "execution_count": 11,
     "metadata": {},
     "output_type": "execute_result"
    }
   ],
   "source": [
    "min(diagnos_data['radius_mean']), max(diagnos_data['radius_mean'])"
   ]
  },
  {
   "cell_type": "code",
   "execution_count": 13,
   "metadata": {},
   "outputs": [
    {
     "data": {
      "image/png": "[encoded data removed]",
      "text/plain": [
       "<Figure size 864x360 with 1 Axes>"
      ]
     },
     "metadata": {
      "needs_background": "light"
     },
     "output_type": "display_data"
    },
    {
     "data": {
      "text/plain": [
       "radius_mean\n",
       "(19.6584-23.8842)    100.00\n",
       "(23.8842-28.11)      100.00\n",
       "(15.4326-19.6584)     92.38\n",
       "(11.2068-15.4326)     19.43\n",
       "(6.981-11.2068)        2.04\n",
       "Name: M, dtype: float64"
      ]
     },
     "execution_count": 13,
     "metadata": {},
     "output_type": "execute_result"
    }
   ],
   "source": [
    "#bin radius_mean\n",
    "diagnos_data['radius_mean'] = pd.cut(diagnos_data.radius_mean.to_list(), bins=[6.981,11.2068,15.4326,19.6584,23.8842,28.11], labels=['(6.981-11.2068)','(11.2068-15.4326)','(15.4326-19.6584)','(19.6584-23.8842)','(23.8842-28.11)'], include_lowest=True)\n",
    "bivariate_cat(diagnos_data, 'radius_mean', 'diagnosis', 45)"
   ]
  },
  {
   "cell_type": "markdown",
   "metadata": {},
   "source": [
    "Data with mean radius of 15 or above is malignant"
   ]
  },
  {
   "cell_type": "code",
   "execution_count": 14,
   "metadata": {},
   "outputs": [
    {
     "data": {
      "text/plain": [
       "(9.71, 39.28)"
      ]
     },
     "execution_count": 14,
     "metadata": {},
     "output_type": "execute_result"
    }
   ],
   "source": [
    "min(diagnos_data['texture_mean']), max(diagnos_data['texture_mean'])"
   ]
  },
  {
   "cell_type": "code",
   "execution_count": 15,
   "metadata": {},
   "outputs": [
    {
     "data": {
      "image/png": "[encoded data removed]",
      "text/plain": [
       "<Figure size 864x360 with 1 Axes>"
      ]
     },
     "metadata": {
      "needs_background": "light"
     },
     "output_type": "display_data"
    },
    {
     "data": {
      "text/plain": [
       "texture_mean\n",
       "(15.4326-19.6584)    69.77\n",
       "(23.8842-28.11)      66.67\n",
       "(19.6584-23.8842)    44.00\n",
       "(11.2068-15.4326)    33.78\n",
       "(6.981-11.2068)       7.08\n",
       "Name: M, dtype: float64"
      ]
     },
     "execution_count": 15,
     "metadata": {},
     "output_type": "execute_result"
    }
   ],
   "source": [
    "#bin texture_mean\n",
    "diagnos_data['texture_mean'] = pd.cut(diagnos_data.texture_mean.to_list(), bins=[9.71,15.624,21.538,27.452,33.366,39.28], labels=['(6.981-11.2068)','(11.2068-15.4326)','(15.4326-19.6584)','(19.6584-23.8842)','(23.8842-28.11)'], include_lowest=True)\n",
    "bivariate_cat(diagnos_data, 'texture_mean', 'diagnosis', 45)"
   ]
  },
  {
   "cell_type": "markdown",
   "metadata": {},
   "source": [
    "Data with mean texture of 19 or above is susceptible to malignant."
   ]
  },
  {
   "cell_type": "code",
   "execution_count": 16,
   "metadata": {},
   "outputs": [
    {
     "data": {
      "text/plain": [
       "(43.79, 188.5)"
      ]
     },
     "execution_count": 16,
     "metadata": {},
     "output_type": "execute_result"
    }
   ],
   "source": [
    "min(diagnos_data['perimeter_mean']), max(diagnos_data['perimeter_mean'])"
   ]
  },
  {
   "cell_type": "code",
   "execution_count": 17,
   "metadata": {},
   "outputs": [
    {
     "data": {
      "image/png": "[encoded data removed]",
      "text/plain": [
       "<Figure size 864x360 with 1 Axes>"
      ]
     },
     "metadata": {
      "needs_background": "light"
     },
     "output_type": "display_data"
    },
    {
     "data": {
      "text/plain": [
       "perimeter_mean\n",
       "(116.145-130.616)    100.00\n",
       "(130.616-145.087)    100.00\n",
       "(145.087-159.558)    100.00\n",
       "(159.558-174.029)    100.00\n",
       "(174.029-188.5)      100.00\n",
       "(101.674-116.145)     87.10\n",
       "(87.203-101.674)      37.93\n",
       "(72.732-87.203)        8.11\n",
       "(58.261-72.732)        1.08\n",
       "(43.79-58.261)         0.00\n",
       "Name: M, dtype: float64"
      ]
     },
     "execution_count": 17,
     "metadata": {},
     "output_type": "execute_result"
    }
   ],
   "source": [
    "#bin perimeter_mean\n",
    "diagnos_data['perimeter_mean'] = pd.cut(diagnos_data.perimeter_mean.to_list(), bins=[43.79,58.261,72.732,87.203,101.674,116.145,130.616,145.087,159.558,174.029,188.5], \n",
    "                                        labels=['(43.79-58.261)','(58.261-72.732)','(72.732-87.203)','(87.203-101.674)','(101.674-116.145)','(116.145-130.616)','(130.616-145.087)','(145.087-159.558)','(159.558-174.029)','(174.029-188.5)'], \n",
    "                                        include_lowest=True)\n",
    "bivariate_cat(diagnos_data, 'perimeter_mean', 'diagnosis', 45)"
   ]
  },
  {
   "cell_type": "markdown",
   "metadata": {},
   "source": [
    "Data with mean perimeter of 101 or above is malignant."
   ]
  },
  {
   "cell_type": "code",
   "execution_count": 18,
   "metadata": {},
   "outputs": [
    {
     "data": {
      "text/plain": [
       "(143.5, 2501.0)"
      ]
     },
     "execution_count": 18,
     "metadata": {},
     "output_type": "execute_result"
    }
   ],
   "source": [
    "min(diagnos_data['area_mean']), max(diagnos_data['area_mean'])"
   ]
  },
  {
   "cell_type": "code",
   "execution_count": 19,
   "metadata": {},
   "outputs": [
    {
     "data": {
      "image/png": "[encoded data removed]",
      "text/plain": [
       "<Figure size 864x360 with 1 Axes>"
      ]
     },
     "metadata": {
      "needs_background": "light"
     },
     "output_type": "display_data"
    },
    {
     "data": {
      "text/plain": [
       "area_mean\n",
       "(1086.5-1322.25)    100.00\n",
       "(1322.25-1558.0)    100.00\n",
       "(1558.0-1793.75)    100.00\n",
       "(1793.75-2029.5)    100.00\n",
       "(2029.5-2265.25)    100.00\n",
       "(2265.25-2501.0)    100.00\n",
       "(850.75-1086.5)      95.74\n",
       "(615.0-850.75)       55.45\n",
       "(379.25-615.0)       12.75\n",
       "(143.5-379.25)        2.15\n",
       "Name: M, dtype: float64"
      ]
     },
     "execution_count": 19,
     "metadata": {},
     "output_type": "execute_result"
    }
   ],
   "source": [
    "#bin perimeter_mean\n",
    "diagnos_data['area_mean'] = pd.cut(diagnos_data.area_mean.to_list(), bins=[143.5,379.25,615.0,850.75,1086.5,1322.25,1558.0,1793.75,2029.5,2265.25,2501.0], \n",
    "                                        labels=['(143.5-379.25)','(379.25-615.0)','(615.0-850.75)','(850.75-1086.5)','(1086.5-1322.25)','(1322.25-1558.0)','(1558.0-1793.75)','(1793.75-2029.5)','(2029.5-2265.25)','(2265.25-2501.0)'], \n",
    "                                        include_lowest=True)\n",
    "bivariate_cat(diagnos_data, 'area_mean', 'diagnosis', 45)"
   ]
  },
  {
   "cell_type": "markdown",
   "metadata": {},
   "source": [
    "Data with mean area of 850 or above is malignant."
   ]
  },
  {
   "cell_type": "code",
   "execution_count": 20,
   "metadata": {},
   "outputs": [
    {
     "data": {
      "text/plain": [
       "(0.05263, 0.1634)"
      ]
     },
     "execution_count": 20,
     "metadata": {},
     "output_type": "execute_result"
    }
   ],
   "source": [
    "min(diagnos_data['smoothness_mean']), max(diagnos_data['smoothness_mean'])"
   ]
  },
  {
   "cell_type": "code",
   "execution_count": 21,
   "metadata": {},
   "outputs": [
    {
     "data": {
      "image/png": "[encoded data removed]",
      "text/plain": [
       "<Figure size 864x360 with 1 Axes>"
      ]
     },
     "metadata": {
      "needs_background": "light"
     },
     "output_type": "display_data"
    },
    {
     "data": {
      "text/plain": [
       "smoothness_mean\n",
       "(0.15-0.16)    55.56\n",
       "(0.05-0.15)    26.06\n",
       "Name: M, dtype: float64"
      ]
     },
     "execution_count": 21,
     "metadata": {},
     "output_type": "execute_result"
    }
   ],
   "source": [
    "#bin smoothness_mean\n",
    "diagnos_data['smoothness_mean'] = pd.cut(diagnos_data.smoothness_mean.to_list(), bins=[0.052629999999999996,0.1,0.1634], labels=['(0.05-0.15)','(0.15-0.16)'], include_lowest=True)\n",
    "bivariate_cat(diagnos_data, 'smoothness_mean', 'diagnosis', 45)"
   ]
  },
  {
   "cell_type": "code",
   "execution_count": 22,
   "metadata": {},
   "outputs": [
    {
     "data": {
      "text/plain": [
       "(0.01938, 0.3454)"
      ]
     },
     "execution_count": 22,
     "metadata": {},
     "output_type": "execute_result"
    }
   ],
   "source": [
    "min(diagnos_data['compactness_mean']), max(diagnos_data['compactness_mean'])"
   ]
  },
  {
   "cell_type": "code",
   "execution_count": 23,
   "metadata": {},
   "outputs": [
    {
     "data": {
      "image/png": "[encoded data removed]",
      "text/plain": [
       "<Figure size 864x360 with 1 Axes>"
      ]
     },
     "metadata": {
      "needs_background": "light"
     },
     "output_type": "display_data"
    },
    {
     "data": {
      "text/plain": [
       "compactness_mean\n",
       "(0.237-0.01938)    100.00\n",
       "(0.128-0.237)       76.92\n",
       "(0.01938-0.128)     21.55\n",
       "Name: M, dtype: float64"
      ]
     },
     "execution_count": 23,
     "metadata": {},
     "output_type": "execute_result"
    }
   ],
   "source": [
    "#bin compactness_mean\n",
    "diagnos_data['compactness_mean'] = pd.cut(diagnos_data.compactness_mean.to_list(), bins=[0.01938,0.128,0.237,0.3454], labels=['(0.01938-0.128)','(0.128-0.237)','(0.237-0.01938)'], include_lowest=True)\n",
    "bivariate_cat(diagnos_data, 'compactness_mean', 'diagnosis', 45)"
   ]
  },
  {
   "cell_type": "markdown",
   "metadata": {},
   "source": [
    "Data with mean compactness of 0.128 or above is susceptible to malignant and over 0.237 is malignant."
   ]
  },
  {
   "cell_type": "code",
   "execution_count": 24,
   "metadata": {},
   "outputs": [
    {
     "data": {
      "text/plain": [
       "(0.0, 0.4268)"
      ]
     },
     "execution_count": 24,
     "metadata": {},
     "output_type": "execute_result"
    }
   ],
   "source": [
    "min(diagnos_data['concavity_mean']), max(diagnos_data['concavity_mean'])"
   ]
  },
  {
   "cell_type": "code",
   "execution_count": 25,
   "metadata": {},
   "outputs": [
    {
     "data": {
      "image/png": "[encoded data removed]",
      "text/plain": [
       "<Figure size 864x360 with 1 Axes>"
      ]
     },
     "metadata": {
      "needs_background": "light"
     },
     "output_type": "display_data"
    },
    {
     "data": {
      "text/plain": [
       "concavity_mean\n",
       "(0.2-0.3)       97.62\n",
       "(0.1-0.2)       82.61\n",
       "(0.3-0.4268)    81.25\n",
       "(0.0-0.1)       11.80\n",
       "Name: M, dtype: float64"
      ]
     },
     "execution_count": 25,
     "metadata": {},
     "output_type": "execute_result"
    }
   ],
   "source": [
    "#bin concavity_mean\n",
    "diagnos_data['concavity_mean'] = pd.cut(diagnos_data.concavity_mean.to_list(), bins=[0.0,0.1,0.2,0.3,0.4268], labels=['(0.0-0.1)','(0.1-0.2)','(0.2-0.3)','(0.3-0.4268)'], include_lowest=True)\n",
    "bivariate_cat(diagnos_data, 'concavity_mean', 'diagnosis', 45)"
   ]
  },
  {
   "cell_type": "markdown",
   "metadata": {},
   "source": [
    "Data with mean concavity of 0.3 or above is malignant."
   ]
  },
  {
   "cell_type": "code",
   "execution_count": 26,
   "metadata": {},
   "outputs": [],
   "source": [
    "diagnos_data.rename(columns = {'concave points_mean':'concave_points_mean', 'concave points_se':'concave_points_se', 'concave points_worst':'concave_points_worst'}, inplace = True)"
   ]
  },
  {
   "cell_type": "code",
   "execution_count": 27,
   "metadata": {},
   "outputs": [
    {
     "data": {
      "text/plain": [
       "(0.0, 0.2012)"
      ]
     },
     "execution_count": 27,
     "metadata": {},
     "output_type": "execute_result"
    }
   ],
   "source": [
    "min(diagnos_data['concave_points_mean']), max(diagnos_data['concave_points_mean'])"
   ]
  },
  {
   "cell_type": "code",
   "execution_count": 28,
   "metadata": {},
   "outputs": [
    {
     "data": {
      "image/png": "[encoded data removed]",
      "text/plain": [
       "<Figure size 864x360 with 1 Axes>"
      ]
     },
     "metadata": {
      "needs_background": "light"
     },
     "output_type": "display_data"
    },
    {
     "data": {
      "text/plain": [
       "concave_points_mean\n",
       "(0.1-0.2012)    100.0\n",
       "(0.0-0.1)        30.0\n",
       "Name: M, dtype: float64"
      ]
     },
     "execution_count": 28,
     "metadata": {},
     "output_type": "execute_result"
    }
   ],
   "source": [
    "#bin concave_points_mean\n",
    "diagnos_data['concave_points_mean'] = pd.cut(diagnos_data.concave_points_mean.to_list(), bins=[0.0,0.1,0.2012], labels=['(0.0-0.1)','(0.1-0.2012)'], include_lowest=True)\n",
    "bivariate_cat(diagnos_data, 'concave_points_mean', 'diagnosis', 45)"
   ]
  },
  {
   "cell_type": "markdown",
   "metadata": {},
   "source": [
    "Data with mean concave-points of 0.1 or above is malignant."
   ]
  },
  {
   "cell_type": "code",
   "execution_count": 29,
   "metadata": {},
   "outputs": [
    {
     "data": {
      "text/plain": [
       "(0.106, 0.304)"
      ]
     },
     "execution_count": 29,
     "metadata": {},
     "output_type": "execute_result"
    }
   ],
   "source": [
    "min(diagnos_data['symmetry_mean']), max(diagnos_data['symmetry_mean'])"
   ]
  },
  {
   "cell_type": "code",
   "execution_count": 30,
   "metadata": {},
   "outputs": [
    {
     "data": {
      "image/png": "[encoded data removed]",
      "text/plain": [
       "<Figure size 864x360 with 1 Axes>"
      ]
     },
     "metadata": {
      "needs_background": "light"
     },
     "output_type": "display_data"
    },
    {
     "data": {
      "text/plain": [
       "symmetry_mean\n",
       "(0.2-0.3)    60.34\n",
       "(0.1-0.2)    31.35\n",
       "Name: M, dtype: float64"
      ]
     },
     "execution_count": 30,
     "metadata": {},
     "output_type": "execute_result"
    }
   ],
   "source": [
    "#bin symmetry_mean\n",
    "diagnos_data['symmetry_mean'] = pd.cut(diagnos_data.symmetry_mean.to_list(), bins=[0.106,0.2,0.304], labels=['(0.1-0.2)','(0.2-0.3)'], include_lowest=True)\n",
    "bivariate_cat(diagnos_data, 'symmetry_mean', 'diagnosis', 45)"
   ]
  },
  {
   "cell_type": "code",
   "execution_count": 31,
   "metadata": {},
   "outputs": [
    {
     "data": {
      "text/plain": [
       "(0.04996, 0.09744)"
      ]
     },
     "execution_count": 31,
     "metadata": {},
     "output_type": "execute_result"
    }
   ],
   "source": [
    "min(diagnos_data['fractal_dimension_mean']), max(diagnos_data['fractal_dimension_mean'])"
   ]
  },
  {
   "cell_type": "code",
   "execution_count": 32,
   "metadata": {},
   "outputs": [
    {
     "data": {
      "image/png": "[encoded data removed]",
      "text/plain": [
       "<Figure size 864x360 with 1 Axes>"
      ]
     },
     "metadata": {
      "needs_background": "light"
     },
     "output_type": "display_data"
    },
    {
     "data": {
      "text/plain": [
       "fractal_dimension_mean\n",
       "(0.07-0.08)    50.77\n",
       "(0.05-0.06)    38.36\n",
       "(0.06-0.07)    33.21\n",
       "(0.08-0.09)    30.77\n",
       "Name: M, dtype: float64"
      ]
     },
     "execution_count": 32,
     "metadata": {},
     "output_type": "execute_result"
    }
   ],
   "source": [
    "#bin fractal_dimension_mean\n",
    "diagnos_data['fractal_dimension_mean'] = pd.cut(diagnos_data.fractal_dimension_mean.to_list(), bins=[0.049960000000000004,0.05,0.06,0.07,0.08,0.09744], \n",
    "                                                labels=['(0.04-0.05)','(0.05-0.06)','(0.06-0.07)','(0.07-0.08)','(0.08-0.09)'], include_lowest=True)\n",
    "bivariate_cat(diagnos_data, 'fractal_dimension_mean', 'diagnosis', 45)"
   ]
  },
  {
   "cell_type": "markdown",
   "metadata": {},
   "source": [
    "Data with mean fractal dimension of 0.04 or above is malignant."
   ]
  },
  {
   "cell_type": "code",
   "execution_count": 33,
   "metadata": {},
   "outputs": [
    {
     "name": "stdout",
     "output_type": "stream",
     "text": [
      "<class 'pandas.core.frame.DataFrame'>\n",
      "RangeIndex: 569 entries, 0 to 568\n",
      "Data columns (total 31 columns):\n",
      " #   Column                   Non-Null Count  Dtype   \n",
      "---  ------                   --------------  -----   \n",
      " 0   diagnosis                569 non-null    category\n",
      " 1   radius_mean              569 non-null    category\n",
      " 2   texture_mean             569 non-null    category\n",
      " 3   perimeter_mean           569 non-null    category\n",
      " 4   area_mean                569 non-null    category\n",
      " 5   smoothness_mean          569 non-null    category\n",
      " 6   compactness_mean         569 non-null    category\n",
      " 7   concavity_mean           569 non-null    category\n",
      " 8   concave_points_mean      569 non-null    category\n",
      " 9   symmetry_mean            569 non-null    category\n",
      " 10  fractal_dimension_mean   568 non-null    category\n",
      " 11  radius_se                569 non-null    float64 \n",
      " 12  texture_se               569 non-null    float64 \n",
      " 13  perimeter_se             569 non-null    float64 \n",
      " 14  area_se                  569 non-null    float64 \n",
      " 15  smoothness_se            569 non-null    float64 \n",
      " 16  compactness_se           569 non-null    float64 \n",
      " 17  concavity_se             569 non-null    float64 \n",
      " 18  concave_points_se        569 non-null    float64 \n",
      " 19  symmetry_se              569 non-null    float64 \n",
      " 20  fractal_dimension_se     569 non-null    float64 \n",
      " 21  radius_worst             569 non-null    float64 \n",
      " 22  texture_worst            569 non-null    float64 \n",
      " 23  perimeter_worst          569 non-null    float64 \n",
      " 24  area_worst               569 non-null    float64 \n",
      " 25  smoothness_worst         569 non-null    float64 \n",
      " 26  compactness_worst        569 non-null    float64 \n",
      " 27  concavity_worst          569 non-null    float64 \n",
      " 28  concave_points_worst     569 non-null    float64 \n",
      " 29  symmetry_worst           569 non-null    float64 \n",
      " 30  fractal_dimension_worst  569 non-null    float64 \n",
      "dtypes: category(11), float64(20)\n",
      "memory usage: 97.3 KB\n"
     ]
    }
   ],
   "source": [
    "diagnos_data.info()"
   ]
  },
  {
   "cell_type": "code",
   "execution_count": 34,
   "metadata": {},
   "outputs": [],
   "source": [
    "cat_cols = []\n",
    "for cols in diagnos_data.select_dtypes(\"category\"):\n",
    "    cat_cols.append(cols)\n",
    "int_cols = []\n",
    "for cols in diagnos_data.select_dtypes([\"float64\"]):\n",
    "    int_cols.append(cols)"
   ]
  },
  {
   "cell_type": "code",
   "execution_count": 35,
   "metadata": {},
   "outputs": [
    {
     "data": {
      "text/plain": [
       "['diagnosis',\n",
       " 'radius_mean',\n",
       " 'texture_mean',\n",
       " 'perimeter_mean',\n",
       " 'area_mean',\n",
       " 'smoothness_mean',\n",
       " 'compactness_mean',\n",
       " 'concavity_mean',\n",
       " 'concave_points_mean',\n",
       " 'symmetry_mean',\n",
       " 'fractal_dimension_mean']"
      ]
     },
     "execution_count": 35,
     "metadata": {},
     "output_type": "execute_result"
    }
   ],
   "source": [
    "cat_cols"
   ]
  },
  {
   "cell_type": "code",
   "execution_count": 36,
   "metadata": {},
   "outputs": [],
   "source": [
    "#chi-square relationship among categorical features\n",
    "\n",
    "from scipy.stats import chi2_contingency"
   ]
  },
  {
   "cell_type": "code",
   "execution_count": 37,
   "metadata": {},
   "outputs": [],
   "source": [
    "chi2, p_values = [], []\n",
    "for f in cat_cols:\n",
    "    chitest = chi2_contingency(pd.crosstab(diagnos_data[f], diagnos_data['diagnosis']))\n",
    "    p_values.append(np.round(chitest[1],6))\n",
    "\n",
    "chi_results = pd.DataFrame(p_values, index=cat_cols)"
   ]
  },
  {
   "cell_type": "code",
   "execution_count": 38,
   "metadata": {},
   "outputs": [
    {
     "data": {
      "text/html": [
       "<div>\n",
       "<style scoped>\n",
       "    .dataframe tbody tr th:only-of-type {\n",
       "        vertical-align: middle;\n",
       "    }\n",
       "\n",
       "    .dataframe tbody tr th {\n",
       "        vertical-align: top;\n",
       "    }\n",
       "\n",
       "    .dataframe thead th {\n",
       "        text-align: right;\n",
       "    }\n",
       "</style>\n",
       "<table border=\"1\" class=\"dataframe\">\n",
       "  <thead>\n",
       "    <tr style=\"text-align: right;\">\n",
       "      <th></th>\n",
       "      <th>0</th>\n",
       "    </tr>\n",
       "  </thead>\n",
       "  <tbody>\n",
       "    <tr>\n",
       "      <th>diagnosis</th>\n",
       "      <td>0.000000</td>\n",
       "    </tr>\n",
       "    <tr>\n",
       "      <th>radius_mean</th>\n",
       "      <td>0.000000</td>\n",
       "    </tr>\n",
       "    <tr>\n",
       "      <th>texture_mean</th>\n",
       "      <td>0.000000</td>\n",
       "    </tr>\n",
       "    <tr>\n",
       "      <th>perimeter_mean</th>\n",
       "      <td>0.000000</td>\n",
       "    </tr>\n",
       "    <tr>\n",
       "      <th>area_mean</th>\n",
       "      <td>0.000000</td>\n",
       "    </tr>\n",
       "    <tr>\n",
       "      <th>smoothness_mean</th>\n",
       "      <td>0.000000</td>\n",
       "    </tr>\n",
       "    <tr>\n",
       "      <th>compactness_mean</th>\n",
       "      <td>0.000000</td>\n",
       "    </tr>\n",
       "    <tr>\n",
       "      <th>concavity_mean</th>\n",
       "      <td>0.000000</td>\n",
       "    </tr>\n",
       "    <tr>\n",
       "      <th>concave_points_mean</th>\n",
       "      <td>0.000000</td>\n",
       "    </tr>\n",
       "    <tr>\n",
       "      <th>symmetry_mean</th>\n",
       "      <td>0.000000</td>\n",
       "    </tr>\n",
       "    <tr>\n",
       "      <th>fractal_dimension_mean</th>\n",
       "      <td>0.062136</td>\n",
       "    </tr>\n",
       "  </tbody>\n",
       "</table>\n",
       "</div>"
      ],
      "text/plain": [
       "                               0\n",
       "diagnosis               0.000000\n",
       "radius_mean             0.000000\n",
       "texture_mean            0.000000\n",
       "perimeter_mean          0.000000\n",
       "area_mean               0.000000\n",
       "smoothness_mean         0.000000\n",
       "compactness_mean        0.000000\n",
       "concavity_mean          0.000000\n",
       "concave_points_mean     0.000000\n",
       "symmetry_mean           0.000000\n",
       "fractal_dimension_mean  0.062136"
      ]
     },
     "execution_count": 38,
     "metadata": {},
     "output_type": "execute_result"
    }
   ],
   "source": [
    "chi_results"
   ]
  },
  {
   "cell_type": "markdown",
   "metadata": {},
   "source": [
    "chi-square value of fractal_dimension_mean is greater than 0.05 which can cause collinearity, and hence is dropped for further analysis."
   ]
  },
  {
   "cell_type": "code",
   "execution_count": 39,
   "metadata": {},
   "outputs": [],
   "source": [
    "diagnos_data = diagnos_data.drop(\"fractal_dimension_mean\", axis=1)"
   ]
  },
  {
   "cell_type": "code",
   "execution_count": 40,
   "metadata": {},
   "outputs": [
    {
     "data": {
      "text/html": [
       "<div>\n",
       "<style scoped>\n",
       "    .dataframe tbody tr th:only-of-type {\n",
       "        vertical-align: middle;\n",
       "    }\n",
       "\n",
       "    .dataframe tbody tr th {\n",
       "        vertical-align: top;\n",
       "    }\n",
       "\n",
       "    .dataframe thead th {\n",
       "        text-align: right;\n",
       "    }\n",
       "</style>\n",
       "<table border=\"1\" class=\"dataframe\">\n",
       "  <thead>\n",
       "    <tr style=\"text-align: right;\">\n",
       "      <th>diagnosis</th>\n",
       "      <th>B</th>\n",
       "      <th>M</th>\n",
       "      <th>All</th>\n",
       "    </tr>\n",
       "    <tr>\n",
       "      <th>radius_mean</th>\n",
       "      <th></th>\n",
       "      <th></th>\n",
       "      <th></th>\n",
       "    </tr>\n",
       "  </thead>\n",
       "  <tbody>\n",
       "    <tr>\n",
       "      <th>(6.981-11.2068)</th>\n",
       "      <td>96</td>\n",
       "      <td>2</td>\n",
       "      <td>98</td>\n",
       "    </tr>\n",
       "    <tr>\n",
       "      <th>(11.2068-15.4326)</th>\n",
       "      <td>253</td>\n",
       "      <td>61</td>\n",
       "      <td>314</td>\n",
       "    </tr>\n",
       "    <tr>\n",
       "      <th>(15.4326-19.6584)</th>\n",
       "      <td>8</td>\n",
       "      <td>97</td>\n",
       "      <td>105</td>\n",
       "    </tr>\n",
       "    <tr>\n",
       "      <th>(19.6584-23.8842)</th>\n",
       "      <td>0</td>\n",
       "      <td>45</td>\n",
       "      <td>45</td>\n",
       "    </tr>\n",
       "    <tr>\n",
       "      <th>(23.8842-28.11)</th>\n",
       "      <td>0</td>\n",
       "      <td>7</td>\n",
       "      <td>7</td>\n",
       "    </tr>\n",
       "    <tr>\n",
       "      <th>All</th>\n",
       "      <td>357</td>\n",
       "      <td>212</td>\n",
       "      <td>569</td>\n",
       "    </tr>\n",
       "  </tbody>\n",
       "</table>\n",
       "</div>"
      ],
      "text/plain": [
       "diagnosis            B    M  All\n",
       "radius_mean                     \n",
       "(6.981-11.2068)     96    2   98\n",
       "(11.2068-15.4326)  253   61  314\n",
       "(15.4326-19.6584)    8   97  105\n",
       "(19.6584-23.8842)    0   45   45\n",
       "(23.8842-28.11)      0    7    7\n",
       "All                357  212  569"
      ]
     },
     "execution_count": 40,
     "metadata": {},
     "output_type": "execute_result"
    }
   ],
   "source": [
    "#chi-square test between 'radius_mean' and 'diagnosis'\n",
    "cross_tab = pd.crosstab(diagnos_data['radius_mean'], diagnos_data['diagnosis'], margins=True)\n",
    "cross_tab"
   ]
  },
  {
   "cell_type": "code",
   "execution_count": 41,
   "metadata": {},
   "outputs": [],
   "source": [
    "#use for chi-square test\n",
    "import researchpy as rp"
   ]
  },
  {
   "cell_type": "code",
   "execution_count": 42,
   "metadata": {},
   "outputs": [
    {
     "data": {
      "text/html": [
       "<div>\n",
       "<style scoped>\n",
       "    .dataframe tbody tr th:only-of-type {\n",
       "        vertical-align: middle;\n",
       "    }\n",
       "\n",
       "    .dataframe tbody tr th {\n",
       "        vertical-align: top;\n",
       "    }\n",
       "\n",
       "    .dataframe thead th {\n",
       "        text-align: right;\n",
       "    }\n",
       "</style>\n",
       "<table border=\"1\" class=\"dataframe\">\n",
       "  <thead>\n",
       "    <tr style=\"text-align: right;\">\n",
       "      <th></th>\n",
       "      <th>Chi-square test</th>\n",
       "      <th>results</th>\n",
       "    </tr>\n",
       "  </thead>\n",
       "  <tbody>\n",
       "    <tr>\n",
       "      <th>0</th>\n",
       "      <td>Pearson Chi-square ( 4.0) =</td>\n",
       "      <td>318.7515</td>\n",
       "    </tr>\n",
       "    <tr>\n",
       "      <th>1</th>\n",
       "      <td>p-value =</td>\n",
       "      <td>0.0000</td>\n",
       "    </tr>\n",
       "    <tr>\n",
       "      <th>2</th>\n",
       "      <td>Cramer's V =</td>\n",
       "      <td>0.7485</td>\n",
       "    </tr>\n",
       "  </tbody>\n",
       "</table>\n",
       "</div>"
      ],
      "text/plain": [
       "                Chi-square test   results\n",
       "0  Pearson Chi-square ( 4.0) =   318.7515\n",
       "1                    p-value =     0.0000\n",
       "2                 Cramer's V =     0.7485"
      ]
     },
     "execution_count": 42,
     "metadata": {},
     "output_type": "execute_result"
    }
   ],
   "source": [
    "table,results = rp.crosstab(diagnos_data['radius_mean'], diagnos_data['diagnosis'], prop='col', test='chi-square')\n",
    "results"
   ]
  },
  {
   "cell_type": "code",
   "execution_count": 43,
   "metadata": {},
   "outputs": [
    {
     "data": {
      "text/html": [
       "<div>\n",
       "<style scoped>\n",
       "    .dataframe tbody tr th:only-of-type {\n",
       "        vertical-align: middle;\n",
       "    }\n",
       "\n",
       "    .dataframe tbody tr th {\n",
       "        vertical-align: top;\n",
       "    }\n",
       "\n",
       "    .dataframe thead th {\n",
       "        text-align: right;\n",
       "    }\n",
       "</style>\n",
       "<table border=\"1\" class=\"dataframe\">\n",
       "  <thead>\n",
       "    <tr style=\"text-align: right;\">\n",
       "      <th>diagnosis</th>\n",
       "      <th>B</th>\n",
       "      <th>M</th>\n",
       "      <th>All</th>\n",
       "    </tr>\n",
       "    <tr>\n",
       "      <th>texture_mean</th>\n",
       "      <th></th>\n",
       "      <th></th>\n",
       "      <th></th>\n",
       "    </tr>\n",
       "  </thead>\n",
       "  <tbody>\n",
       "    <tr>\n",
       "      <th>(6.981-11.2068)</th>\n",
       "      <td>105</td>\n",
       "      <td>8</td>\n",
       "      <td>113</td>\n",
       "    </tr>\n",
       "    <tr>\n",
       "      <th>(11.2068-15.4326)</th>\n",
       "      <td>198</td>\n",
       "      <td>101</td>\n",
       "      <td>299</td>\n",
       "    </tr>\n",
       "    <tr>\n",
       "      <th>(15.4326-19.6584)</th>\n",
       "      <td>39</td>\n",
       "      <td>90</td>\n",
       "      <td>129</td>\n",
       "    </tr>\n",
       "    <tr>\n",
       "      <th>(19.6584-23.8842)</th>\n",
       "      <td>14</td>\n",
       "      <td>11</td>\n",
       "      <td>25</td>\n",
       "    </tr>\n",
       "    <tr>\n",
       "      <th>(23.8842-28.11)</th>\n",
       "      <td>1</td>\n",
       "      <td>2</td>\n",
       "      <td>3</td>\n",
       "    </tr>\n",
       "    <tr>\n",
       "      <th>All</th>\n",
       "      <td>357</td>\n",
       "      <td>212</td>\n",
       "      <td>569</td>\n",
       "    </tr>\n",
       "  </tbody>\n",
       "</table>\n",
       "</div>"
      ],
      "text/plain": [
       "diagnosis            B    M  All\n",
       "texture_mean                    \n",
       "(6.981-11.2068)    105    8  113\n",
       "(11.2068-15.4326)  198  101  299\n",
       "(15.4326-19.6584)   39   90  129\n",
       "(19.6584-23.8842)   14   11   25\n",
       "(23.8842-28.11)      1    2    3\n",
       "All                357  212  569"
      ]
     },
     "execution_count": 43,
     "metadata": {},
     "output_type": "execute_result"
    }
   ],
   "source": [
    "#chi-square test between 'texture_mean' and 'diagnosis'\n",
    "cross_tab = pd.crosstab(diagnos_data['texture_mean'], diagnos_data['diagnosis'], margins=True)\n",
    "cross_tab"
   ]
  },
  {
   "cell_type": "code",
   "execution_count": 44,
   "metadata": {},
   "outputs": [
    {
     "data": {
      "text/html": [
       "<div>\n",
       "<style scoped>\n",
       "    .dataframe tbody tr th:only-of-type {\n",
       "        vertical-align: middle;\n",
       "    }\n",
       "\n",
       "    .dataframe tbody tr th {\n",
       "        vertical-align: top;\n",
       "    }\n",
       "\n",
       "    .dataframe thead th {\n",
       "        text-align: right;\n",
       "    }\n",
       "</style>\n",
       "<table border=\"1\" class=\"dataframe\">\n",
       "  <thead>\n",
       "    <tr style=\"text-align: right;\">\n",
       "      <th></th>\n",
       "      <th>Chi-square test</th>\n",
       "      <th>results</th>\n",
       "    </tr>\n",
       "  </thead>\n",
       "  <tbody>\n",
       "    <tr>\n",
       "      <th>0</th>\n",
       "      <td>Pearson Chi-square ( 4.0) =</td>\n",
       "      <td>105.4895</td>\n",
       "    </tr>\n",
       "    <tr>\n",
       "      <th>1</th>\n",
       "      <td>p-value =</td>\n",
       "      <td>0.0000</td>\n",
       "    </tr>\n",
       "    <tr>\n",
       "      <th>2</th>\n",
       "      <td>Cramer's V =</td>\n",
       "      <td>0.4306</td>\n",
       "    </tr>\n",
       "  </tbody>\n",
       "</table>\n",
       "</div>"
      ],
      "text/plain": [
       "                Chi-square test   results\n",
       "0  Pearson Chi-square ( 4.0) =   105.4895\n",
       "1                    p-value =     0.0000\n",
       "2                 Cramer's V =     0.4306"
      ]
     },
     "execution_count": 44,
     "metadata": {},
     "output_type": "execute_result"
    }
   ],
   "source": [
    "table,results = rp.crosstab(diagnos_data['texture_mean'], diagnos_data['diagnosis'], \n",
    "                            prop='col', test='chi-square')\n",
    "results"
   ]
  },
  {
   "cell_type": "code",
   "execution_count": 45,
   "metadata": {},
   "outputs": [
    {
     "data": {
      "text/html": [
       "<div>\n",
       "<style scoped>\n",
       "    .dataframe tbody tr th:only-of-type {\n",
       "        vertical-align: middle;\n",
       "    }\n",
       "\n",
       "    .dataframe tbody tr th {\n",
       "        vertical-align: top;\n",
       "    }\n",
       "\n",
       "    .dataframe thead th {\n",
       "        text-align: right;\n",
       "    }\n",
       "</style>\n",
       "<table border=\"1\" class=\"dataframe\">\n",
       "  <thead>\n",
       "    <tr style=\"text-align: right;\">\n",
       "      <th>diagnosis</th>\n",
       "      <th>B</th>\n",
       "      <th>M</th>\n",
       "      <th>All</th>\n",
       "    </tr>\n",
       "    <tr>\n",
       "      <th>perimeter_mean</th>\n",
       "      <th></th>\n",
       "      <th></th>\n",
       "      <th></th>\n",
       "    </tr>\n",
       "  </thead>\n",
       "  <tbody>\n",
       "    <tr>\n",
       "      <th>(43.79-58.261)</th>\n",
       "      <td>15</td>\n",
       "      <td>0</td>\n",
       "      <td>15</td>\n",
       "    </tr>\n",
       "    <tr>\n",
       "      <th>(58.261-72.732)</th>\n",
       "      <td>92</td>\n",
       "      <td>1</td>\n",
       "      <td>93</td>\n",
       "    </tr>\n",
       "    <tr>\n",
       "      <th>(72.732-87.203)</th>\n",
       "      <td>170</td>\n",
       "      <td>15</td>\n",
       "      <td>185</td>\n",
       "    </tr>\n",
       "    <tr>\n",
       "      <th>(87.203-101.674)</th>\n",
       "      <td>72</td>\n",
       "      <td>44</td>\n",
       "      <td>116</td>\n",
       "    </tr>\n",
       "    <tr>\n",
       "      <th>(101.674-116.145)</th>\n",
       "      <td>8</td>\n",
       "      <td>54</td>\n",
       "      <td>62</td>\n",
       "    </tr>\n",
       "    <tr>\n",
       "      <th>(116.145-130.616)</th>\n",
       "      <td>0</td>\n",
       "      <td>49</td>\n",
       "      <td>49</td>\n",
       "    </tr>\n",
       "    <tr>\n",
       "      <th>(130.616-145.087)</th>\n",
       "      <td>0</td>\n",
       "      <td>34</td>\n",
       "      <td>34</td>\n",
       "    </tr>\n",
       "    <tr>\n",
       "      <th>(145.087-159.558)</th>\n",
       "      <td>0</td>\n",
       "      <td>8</td>\n",
       "      <td>8</td>\n",
       "    </tr>\n",
       "    <tr>\n",
       "      <th>(159.558-174.029)</th>\n",
       "      <td>0</td>\n",
       "      <td>3</td>\n",
       "      <td>3</td>\n",
       "    </tr>\n",
       "    <tr>\n",
       "      <th>(174.029-188.5)</th>\n",
       "      <td>0</td>\n",
       "      <td>4</td>\n",
       "      <td>4</td>\n",
       "    </tr>\n",
       "    <tr>\n",
       "      <th>All</th>\n",
       "      <td>357</td>\n",
       "      <td>212</td>\n",
       "      <td>569</td>\n",
       "    </tr>\n",
       "  </tbody>\n",
       "</table>\n",
       "</div>"
      ],
      "text/plain": [
       "diagnosis            B    M  All\n",
       "perimeter_mean                  \n",
       "(43.79-58.261)      15    0   15\n",
       "(58.261-72.732)     92    1   93\n",
       "(72.732-87.203)    170   15  185\n",
       "(87.203-101.674)    72   44  116\n",
       "(101.674-116.145)    8   54   62\n",
       "(116.145-130.616)    0   49   49\n",
       "(130.616-145.087)    0   34   34\n",
       "(145.087-159.558)    0    8    8\n",
       "(159.558-174.029)    0    3    3\n",
       "(174.029-188.5)      0    4    4\n",
       "All                357  212  569"
      ]
     },
     "execution_count": 45,
     "metadata": {},
     "output_type": "execute_result"
    }
   ],
   "source": [
    "#chi-square test between 'perimeter_mean' and 'diagnosis'\n",
    "cross_tab = pd.crosstab(diagnos_data['perimeter_mean'], diagnos_data['diagnosis'], margins=True)\n",
    "cross_tab"
   ]
  },
  {
   "cell_type": "code",
   "execution_count": 46,
   "metadata": {},
   "outputs": [
    {
     "data": {
      "text/html": [
       "<div>\n",
       "<style scoped>\n",
       "    .dataframe tbody tr th:only-of-type {\n",
       "        vertical-align: middle;\n",
       "    }\n",
       "\n",
       "    .dataframe tbody tr th {\n",
       "        vertical-align: top;\n",
       "    }\n",
       "\n",
       "    .dataframe thead th {\n",
       "        text-align: right;\n",
       "    }\n",
       "</style>\n",
       "<table border=\"1\" class=\"dataframe\">\n",
       "  <thead>\n",
       "    <tr style=\"text-align: right;\">\n",
       "      <th></th>\n",
       "      <th>Chi-square test</th>\n",
       "      <th>results</th>\n",
       "    </tr>\n",
       "  </thead>\n",
       "  <tbody>\n",
       "    <tr>\n",
       "      <th>0</th>\n",
       "      <td>Pearson Chi-square ( 9.0) =</td>\n",
       "      <td>359.1691</td>\n",
       "    </tr>\n",
       "    <tr>\n",
       "      <th>1</th>\n",
       "      <td>p-value =</td>\n",
       "      <td>0.0000</td>\n",
       "    </tr>\n",
       "    <tr>\n",
       "      <th>2</th>\n",
       "      <td>Cramer's V =</td>\n",
       "      <td>0.7945</td>\n",
       "    </tr>\n",
       "  </tbody>\n",
       "</table>\n",
       "</div>"
      ],
      "text/plain": [
       "                Chi-square test   results\n",
       "0  Pearson Chi-square ( 9.0) =   359.1691\n",
       "1                    p-value =     0.0000\n",
       "2                 Cramer's V =     0.7945"
      ]
     },
     "execution_count": 46,
     "metadata": {},
     "output_type": "execute_result"
    }
   ],
   "source": [
    "table,results = rp.crosstab(diagnos_data['perimeter_mean'], diagnos_data['diagnosis'], \n",
    "                            prop='col', test='chi-square')\n",
    "results"
   ]
  },
  {
   "cell_type": "code",
   "execution_count": 47,
   "metadata": {},
   "outputs": [
    {
     "data": {
      "text/html": [
       "<div>\n",
       "<style scoped>\n",
       "    .dataframe tbody tr th:only-of-type {\n",
       "        vertical-align: middle;\n",
       "    }\n",
       "\n",
       "    .dataframe tbody tr th {\n",
       "        vertical-align: top;\n",
       "    }\n",
       "\n",
       "    .dataframe thead th {\n",
       "        text-align: right;\n",
       "    }\n",
       "</style>\n",
       "<table border=\"1\" class=\"dataframe\">\n",
       "  <thead>\n",
       "    <tr style=\"text-align: right;\">\n",
       "      <th>diagnosis</th>\n",
       "      <th>B</th>\n",
       "      <th>M</th>\n",
       "      <th>All</th>\n",
       "    </tr>\n",
       "    <tr>\n",
       "      <th>area_mean</th>\n",
       "      <th></th>\n",
       "      <th></th>\n",
       "      <th></th>\n",
       "    </tr>\n",
       "  </thead>\n",
       "  <tbody>\n",
       "    <tr>\n",
       "      <th>(143.5-379.25)</th>\n",
       "      <td>91</td>\n",
       "      <td>2</td>\n",
       "      <td>93</td>\n",
       "    </tr>\n",
       "    <tr>\n",
       "      <th>(379.25-615.0)</th>\n",
       "      <td>219</td>\n",
       "      <td>32</td>\n",
       "      <td>251</td>\n",
       "    </tr>\n",
       "    <tr>\n",
       "      <th>(615.0-850.75)</th>\n",
       "      <td>45</td>\n",
       "      <td>56</td>\n",
       "      <td>101</td>\n",
       "    </tr>\n",
       "    <tr>\n",
       "      <th>(850.75-1086.5)</th>\n",
       "      <td>2</td>\n",
       "      <td>45</td>\n",
       "      <td>47</td>\n",
       "    </tr>\n",
       "    <tr>\n",
       "      <th>(1086.5-1322.25)</th>\n",
       "      <td>0</td>\n",
       "      <td>51</td>\n",
       "      <td>51</td>\n",
       "    </tr>\n",
       "    <tr>\n",
       "      <th>(1322.25-1558.0)</th>\n",
       "      <td>0</td>\n",
       "      <td>14</td>\n",
       "      <td>14</td>\n",
       "    </tr>\n",
       "    <tr>\n",
       "      <th>(1558.0-1793.75)</th>\n",
       "      <td>0</td>\n",
       "      <td>6</td>\n",
       "      <td>6</td>\n",
       "    </tr>\n",
       "    <tr>\n",
       "      <th>(1793.75-2029.5)</th>\n",
       "      <td>0</td>\n",
       "      <td>3</td>\n",
       "      <td>3</td>\n",
       "    </tr>\n",
       "    <tr>\n",
       "      <th>(2029.5-2265.25)</th>\n",
       "      <td>0</td>\n",
       "      <td>1</td>\n",
       "      <td>1</td>\n",
       "    </tr>\n",
       "    <tr>\n",
       "      <th>(2265.25-2501.0)</th>\n",
       "      <td>0</td>\n",
       "      <td>2</td>\n",
       "      <td>2</td>\n",
       "    </tr>\n",
       "    <tr>\n",
       "      <th>All</th>\n",
       "      <td>357</td>\n",
       "      <td>212</td>\n",
       "      <td>569</td>\n",
       "    </tr>\n",
       "  </tbody>\n",
       "</table>\n",
       "</div>"
      ],
      "text/plain": [
       "diagnosis           B    M  All\n",
       "area_mean                      \n",
       "(143.5-379.25)     91    2   93\n",
       "(379.25-615.0)    219   32  251\n",
       "(615.0-850.75)     45   56  101\n",
       "(850.75-1086.5)     2   45   47\n",
       "(1086.5-1322.25)    0   51   51\n",
       "(1322.25-1558.0)    0   14   14\n",
       "(1558.0-1793.75)    0    6    6\n",
       "(1793.75-2029.5)    0    3    3\n",
       "(2029.5-2265.25)    0    1    1\n",
       "(2265.25-2501.0)    0    2    2\n",
       "All               357  212  569"
      ]
     },
     "execution_count": 47,
     "metadata": {},
     "output_type": "execute_result"
    }
   ],
   "source": [
    "#chi-square test between 'area_mean' and 'diagnosis'\n",
    "cross_tab = pd.crosstab(diagnos_data['area_mean'], diagnos_data['diagnosis'], margins=True)\n",
    "cross_tab"
   ]
  },
  {
   "cell_type": "code",
   "execution_count": 48,
   "metadata": {},
   "outputs": [
    {
     "data": {
      "text/html": [
       "<div>\n",
       "<style scoped>\n",
       "    .dataframe tbody tr th:only-of-type {\n",
       "        vertical-align: middle;\n",
       "    }\n",
       "\n",
       "    .dataframe tbody tr th {\n",
       "        vertical-align: top;\n",
       "    }\n",
       "\n",
       "    .dataframe thead th {\n",
       "        text-align: right;\n",
       "    }\n",
       "</style>\n",
       "<table border=\"1\" class=\"dataframe\">\n",
       "  <thead>\n",
       "    <tr style=\"text-align: right;\">\n",
       "      <th></th>\n",
       "      <th>Chi-square test</th>\n",
       "      <th>results</th>\n",
       "    </tr>\n",
       "  </thead>\n",
       "  <tbody>\n",
       "    <tr>\n",
       "      <th>0</th>\n",
       "      <td>Pearson Chi-square ( 9.0) =</td>\n",
       "      <td>326.2661</td>\n",
       "    </tr>\n",
       "    <tr>\n",
       "      <th>1</th>\n",
       "      <td>p-value =</td>\n",
       "      <td>0.0000</td>\n",
       "    </tr>\n",
       "    <tr>\n",
       "      <th>2</th>\n",
       "      <td>Cramer's V =</td>\n",
       "      <td>0.7572</td>\n",
       "    </tr>\n",
       "  </tbody>\n",
       "</table>\n",
       "</div>"
      ],
      "text/plain": [
       "                Chi-square test   results\n",
       "0  Pearson Chi-square ( 9.0) =   326.2661\n",
       "1                    p-value =     0.0000\n",
       "2                 Cramer's V =     0.7572"
      ]
     },
     "execution_count": 48,
     "metadata": {},
     "output_type": "execute_result"
    }
   ],
   "source": [
    "table,results = rp.crosstab(diagnos_data['area_mean'], diagnos_data['diagnosis'], \n",
    "                            prop='col', test='chi-square')\n",
    "results"
   ]
  },
  {
   "cell_type": "code",
   "execution_count": 49,
   "metadata": {},
   "outputs": [
    {
     "data": {
      "text/html": [
       "<div>\n",
       "<style scoped>\n",
       "    .dataframe tbody tr th:only-of-type {\n",
       "        vertical-align: middle;\n",
       "    }\n",
       "\n",
       "    .dataframe tbody tr th {\n",
       "        vertical-align: top;\n",
       "    }\n",
       "\n",
       "    .dataframe thead th {\n",
       "        text-align: right;\n",
       "    }\n",
       "</style>\n",
       "<table border=\"1\" class=\"dataframe\">\n",
       "  <thead>\n",
       "    <tr style=\"text-align: right;\">\n",
       "      <th>diagnosis</th>\n",
       "      <th>B</th>\n",
       "      <th>M</th>\n",
       "      <th>All</th>\n",
       "    </tr>\n",
       "    <tr>\n",
       "      <th>smoothness_mean</th>\n",
       "      <th></th>\n",
       "      <th></th>\n",
       "      <th></th>\n",
       "    </tr>\n",
       "  </thead>\n",
       "  <tbody>\n",
       "    <tr>\n",
       "      <th>(0.05-0.15)</th>\n",
       "      <td>261</td>\n",
       "      <td>92</td>\n",
       "      <td>353</td>\n",
       "    </tr>\n",
       "    <tr>\n",
       "      <th>(0.15-0.16)</th>\n",
       "      <td>96</td>\n",
       "      <td>120</td>\n",
       "      <td>216</td>\n",
       "    </tr>\n",
       "    <tr>\n",
       "      <th>All</th>\n",
       "      <td>357</td>\n",
       "      <td>212</td>\n",
       "      <td>569</td>\n",
       "    </tr>\n",
       "  </tbody>\n",
       "</table>\n",
       "</div>"
      ],
      "text/plain": [
       "diagnosis          B    M  All\n",
       "smoothness_mean               \n",
       "(0.05-0.15)      261   92  353\n",
       "(0.15-0.16)       96  120  216\n",
       "All              357  212  569"
      ]
     },
     "execution_count": 49,
     "metadata": {},
     "output_type": "execute_result"
    }
   ],
   "source": [
    "#chi-square test between 'smoothness_mean' and 'diagnosis'\n",
    "cross_tab = pd.crosstab(diagnos_data['smoothness_mean'], diagnos_data['diagnosis'], margins=True)\n",
    "cross_tab"
   ]
  },
  {
   "cell_type": "code",
   "execution_count": 50,
   "metadata": {},
   "outputs": [
    {
     "data": {
      "text/html": [
       "<div>\n",
       "<style scoped>\n",
       "    .dataframe tbody tr th:only-of-type {\n",
       "        vertical-align: middle;\n",
       "    }\n",
       "\n",
       "    .dataframe tbody tr th {\n",
       "        vertical-align: top;\n",
       "    }\n",
       "\n",
       "    .dataframe thead th {\n",
       "        text-align: right;\n",
       "    }\n",
       "</style>\n",
       "<table border=\"1\" class=\"dataframe\">\n",
       "  <thead>\n",
       "    <tr style=\"text-align: right;\">\n",
       "      <th></th>\n",
       "      <th>Chi-square test</th>\n",
       "      <th>results</th>\n",
       "    </tr>\n",
       "  </thead>\n",
       "  <tbody>\n",
       "    <tr>\n",
       "      <th>0</th>\n",
       "      <td>Pearson Chi-square ( 1.0) =</td>\n",
       "      <td>49.8633</td>\n",
       "    </tr>\n",
       "    <tr>\n",
       "      <th>1</th>\n",
       "      <td>p-value =</td>\n",
       "      <td>0.0000</td>\n",
       "    </tr>\n",
       "    <tr>\n",
       "      <th>2</th>\n",
       "      <td>Cramer's phi =</td>\n",
       "      <td>0.2960</td>\n",
       "    </tr>\n",
       "  </tbody>\n",
       "</table>\n",
       "</div>"
      ],
      "text/plain": [
       "                Chi-square test  results\n",
       "0  Pearson Chi-square ( 1.0) =   49.8633\n",
       "1                    p-value =    0.0000\n",
       "2               Cramer's phi =    0.2960"
      ]
     },
     "execution_count": 50,
     "metadata": {},
     "output_type": "execute_result"
    }
   ],
   "source": [
    "table,results = rp.crosstab(diagnos_data['smoothness_mean'], diagnos_data['diagnosis'], \n",
    "                            prop='col', test='chi-square')\n",
    "results"
   ]
  },
  {
   "cell_type": "code",
   "execution_count": 51,
   "metadata": {},
   "outputs": [
    {
     "data": {
      "text/html": [
       "<div>\n",
       "<style scoped>\n",
       "    .dataframe tbody tr th:only-of-type {\n",
       "        vertical-align: middle;\n",
       "    }\n",
       "\n",
       "    .dataframe tbody tr th {\n",
       "        vertical-align: top;\n",
       "    }\n",
       "\n",
       "    .dataframe thead th {\n",
       "        text-align: right;\n",
       "    }\n",
       "</style>\n",
       "<table border=\"1\" class=\"dataframe\">\n",
       "  <thead>\n",
       "    <tr style=\"text-align: right;\">\n",
       "      <th>diagnosis</th>\n",
       "      <th>B</th>\n",
       "      <th>M</th>\n",
       "      <th>All</th>\n",
       "    </tr>\n",
       "    <tr>\n",
       "      <th>compactness_mean</th>\n",
       "      <th></th>\n",
       "      <th></th>\n",
       "      <th></th>\n",
       "    </tr>\n",
       "  </thead>\n",
       "  <tbody>\n",
       "    <tr>\n",
       "      <th>(0.01938-0.128)</th>\n",
       "      <td>324</td>\n",
       "      <td>89</td>\n",
       "      <td>413</td>\n",
       "    </tr>\n",
       "    <tr>\n",
       "      <th>(0.128-0.237)</th>\n",
       "      <td>33</td>\n",
       "      <td>110</td>\n",
       "      <td>143</td>\n",
       "    </tr>\n",
       "    <tr>\n",
       "      <th>(0.237-0.01938)</th>\n",
       "      <td>0</td>\n",
       "      <td>13</td>\n",
       "      <td>13</td>\n",
       "    </tr>\n",
       "    <tr>\n",
       "      <th>All</th>\n",
       "      <td>357</td>\n",
       "      <td>212</td>\n",
       "      <td>569</td>\n",
       "    </tr>\n",
       "  </tbody>\n",
       "</table>\n",
       "</div>"
      ],
      "text/plain": [
       "diagnosis           B    M  All\n",
       "compactness_mean               \n",
       "(0.01938-0.128)   324   89  413\n",
       "(0.128-0.237)      33  110  143\n",
       "(0.237-0.01938)     0   13   13\n",
       "All               357  212  569"
      ]
     },
     "execution_count": 51,
     "metadata": {},
     "output_type": "execute_result"
    }
   ],
   "source": [
    "#chi-square test between 'compactness_mean' and 'diagnosis'\n",
    "cross_tab = pd.crosstab(diagnos_data['compactness_mean'], diagnos_data['diagnosis'], margins=True)\n",
    "cross_tab"
   ]
  },
  {
   "cell_type": "code",
   "execution_count": 52,
   "metadata": {},
   "outputs": [
    {
     "data": {
      "text/html": [
       "<div>\n",
       "<style scoped>\n",
       "    .dataframe tbody tr th:only-of-type {\n",
       "        vertical-align: middle;\n",
       "    }\n",
       "\n",
       "    .dataframe tbody tr th {\n",
       "        vertical-align: top;\n",
       "    }\n",
       "\n",
       "    .dataframe thead th {\n",
       "        text-align: right;\n",
       "    }\n",
       "</style>\n",
       "<table border=\"1\" class=\"dataframe\">\n",
       "  <thead>\n",
       "    <tr style=\"text-align: right;\">\n",
       "      <th></th>\n",
       "      <th>Chi-square test</th>\n",
       "      <th>results</th>\n",
       "    </tr>\n",
       "  </thead>\n",
       "  <tbody>\n",
       "    <tr>\n",
       "      <th>0</th>\n",
       "      <td>Pearson Chi-square ( 2.0) =</td>\n",
       "      <td>161.7302</td>\n",
       "    </tr>\n",
       "    <tr>\n",
       "      <th>1</th>\n",
       "      <td>p-value =</td>\n",
       "      <td>0.0000</td>\n",
       "    </tr>\n",
       "    <tr>\n",
       "      <th>2</th>\n",
       "      <td>Cramer's V =</td>\n",
       "      <td>0.5331</td>\n",
       "    </tr>\n",
       "  </tbody>\n",
       "</table>\n",
       "</div>"
      ],
      "text/plain": [
       "                Chi-square test   results\n",
       "0  Pearson Chi-square ( 2.0) =   161.7302\n",
       "1                    p-value =     0.0000\n",
       "2                 Cramer's V =     0.5331"
      ]
     },
     "execution_count": 52,
     "metadata": {},
     "output_type": "execute_result"
    }
   ],
   "source": [
    "table,results = rp.crosstab(diagnos_data['compactness_mean'], diagnos_data['diagnosis'], \n",
    "                            prop='col', test='chi-square')\n",
    "results"
   ]
  },
  {
   "cell_type": "code",
   "execution_count": 53,
   "metadata": {},
   "outputs": [
    {
     "data": {
      "text/html": [
       "<div>\n",
       "<style scoped>\n",
       "    .dataframe tbody tr th:only-of-type {\n",
       "        vertical-align: middle;\n",
       "    }\n",
       "\n",
       "    .dataframe tbody tr th {\n",
       "        vertical-align: top;\n",
       "    }\n",
       "\n",
       "    .dataframe thead th {\n",
       "        text-align: right;\n",
       "    }\n",
       "</style>\n",
       "<table border=\"1\" class=\"dataframe\">\n",
       "  <thead>\n",
       "    <tr style=\"text-align: right;\">\n",
       "      <th>diagnosis</th>\n",
       "      <th>B</th>\n",
       "      <th>M</th>\n",
       "      <th>All</th>\n",
       "    </tr>\n",
       "    <tr>\n",
       "      <th>concavity_mean</th>\n",
       "      <th></th>\n",
       "      <th></th>\n",
       "      <th></th>\n",
       "    </tr>\n",
       "  </thead>\n",
       "  <tbody>\n",
       "    <tr>\n",
       "      <th>(0.0-0.1)</th>\n",
       "      <td>329</td>\n",
       "      <td>44</td>\n",
       "      <td>373</td>\n",
       "    </tr>\n",
       "    <tr>\n",
       "      <th>(0.1-0.2)</th>\n",
       "      <td>24</td>\n",
       "      <td>114</td>\n",
       "      <td>138</td>\n",
       "    </tr>\n",
       "    <tr>\n",
       "      <th>(0.2-0.3)</th>\n",
       "      <td>1</td>\n",
       "      <td>41</td>\n",
       "      <td>42</td>\n",
       "    </tr>\n",
       "    <tr>\n",
       "      <th>(0.3-0.4268)</th>\n",
       "      <td>3</td>\n",
       "      <td>13</td>\n",
       "      <td>16</td>\n",
       "    </tr>\n",
       "    <tr>\n",
       "      <th>All</th>\n",
       "      <td>357</td>\n",
       "      <td>212</td>\n",
       "      <td>569</td>\n",
       "    </tr>\n",
       "  </tbody>\n",
       "</table>\n",
       "</div>"
      ],
      "text/plain": [
       "diagnosis         B    M  All\n",
       "concavity_mean               \n",
       "(0.0-0.1)       329   44  373\n",
       "(0.1-0.2)        24  114  138\n",
       "(0.2-0.3)         1   41   42\n",
       "(0.3-0.4268)      3   13   16\n",
       "All             357  212  569"
      ]
     },
     "execution_count": 53,
     "metadata": {},
     "output_type": "execute_result"
    }
   ],
   "source": [
    "#chi-square test between 'concavity_mean' and 'diagnosis'\n",
    "cross_tab = pd.crosstab(diagnos_data['concavity_mean'], diagnos_data['diagnosis'], margins=True)\n",
    "cross_tab"
   ]
  },
  {
   "cell_type": "code",
   "execution_count": 54,
   "metadata": {},
   "outputs": [
    {
     "data": {
      "text/html": [
       "<div>\n",
       "<style scoped>\n",
       "    .dataframe tbody tr th:only-of-type {\n",
       "        vertical-align: middle;\n",
       "    }\n",
       "\n",
       "    .dataframe tbody tr th {\n",
       "        vertical-align: top;\n",
       "    }\n",
       "\n",
       "    .dataframe thead th {\n",
       "        text-align: right;\n",
       "    }\n",
       "</style>\n",
       "<table border=\"1\" class=\"dataframe\">\n",
       "  <thead>\n",
       "    <tr style=\"text-align: right;\">\n",
       "      <th></th>\n",
       "      <th>Chi-square test</th>\n",
       "      <th>results</th>\n",
       "    </tr>\n",
       "  </thead>\n",
       "  <tbody>\n",
       "    <tr>\n",
       "      <th>0</th>\n",
       "      <td>Pearson Chi-square ( 3.0) =</td>\n",
       "      <td>303.5650</td>\n",
       "    </tr>\n",
       "    <tr>\n",
       "      <th>1</th>\n",
       "      <td>p-value =</td>\n",
       "      <td>0.0000</td>\n",
       "    </tr>\n",
       "    <tr>\n",
       "      <th>2</th>\n",
       "      <td>Cramer's V =</td>\n",
       "      <td>0.7304</td>\n",
       "    </tr>\n",
       "  </tbody>\n",
       "</table>\n",
       "</div>"
      ],
      "text/plain": [
       "                Chi-square test   results\n",
       "0  Pearson Chi-square ( 3.0) =   303.5650\n",
       "1                    p-value =     0.0000\n",
       "2                 Cramer's V =     0.7304"
      ]
     },
     "execution_count": 54,
     "metadata": {},
     "output_type": "execute_result"
    }
   ],
   "source": [
    "table,results = rp.crosstab(diagnos_data['concavity_mean'], diagnos_data['diagnosis'], \n",
    "                            prop='col', test='chi-square')\n",
    "results"
   ]
  },
  {
   "cell_type": "code",
   "execution_count": 55,
   "metadata": {},
   "outputs": [
    {
     "data": {
      "text/html": [
       "<div>\n",
       "<style scoped>\n",
       "    .dataframe tbody tr th:only-of-type {\n",
       "        vertical-align: middle;\n",
       "    }\n",
       "\n",
       "    .dataframe tbody tr th {\n",
       "        vertical-align: top;\n",
       "    }\n",
       "\n",
       "    .dataframe thead th {\n",
       "        text-align: right;\n",
       "    }\n",
       "</style>\n",
       "<table border=\"1\" class=\"dataframe\">\n",
       "  <thead>\n",
       "    <tr style=\"text-align: right;\">\n",
       "      <th>diagnosis</th>\n",
       "      <th>B</th>\n",
       "      <th>M</th>\n",
       "      <th>All</th>\n",
       "    </tr>\n",
       "    <tr>\n",
       "      <th>concave_points_mean</th>\n",
       "      <th></th>\n",
       "      <th></th>\n",
       "      <th></th>\n",
       "    </tr>\n",
       "  </thead>\n",
       "  <tbody>\n",
       "    <tr>\n",
       "      <th>(0.0-0.1)</th>\n",
       "      <td>357</td>\n",
       "      <td>153</td>\n",
       "      <td>510</td>\n",
       "    </tr>\n",
       "    <tr>\n",
       "      <th>(0.1-0.2012)</th>\n",
       "      <td>0</td>\n",
       "      <td>59</td>\n",
       "      <td>59</td>\n",
       "    </tr>\n",
       "    <tr>\n",
       "      <th>All</th>\n",
       "      <td>357</td>\n",
       "      <td>212</td>\n",
       "      <td>569</td>\n",
       "    </tr>\n",
       "  </tbody>\n",
       "</table>\n",
       "</div>"
      ],
      "text/plain": [
       "diagnosis              B    M  All\n",
       "concave_points_mean               \n",
       "(0.0-0.1)            357  153  510\n",
       "(0.1-0.2012)           0   59   59\n",
       "All                  357  212  569"
      ]
     },
     "execution_count": 55,
     "metadata": {},
     "output_type": "execute_result"
    }
   ],
   "source": [
    "#chi-square test between 'concave_points_mean' and 'diagnosis'\n",
    "cross_tab = pd.crosstab(diagnos_data['concave_points_mean'], diagnos_data['diagnosis'], margins=True)\n",
    "cross_tab"
   ]
  },
  {
   "cell_type": "code",
   "execution_count": 56,
   "metadata": {},
   "outputs": [
    {
     "data": {
      "text/html": [
       "<div>\n",
       "<style scoped>\n",
       "    .dataframe tbody tr th:only-of-type {\n",
       "        vertical-align: middle;\n",
       "    }\n",
       "\n",
       "    .dataframe tbody tr th {\n",
       "        vertical-align: top;\n",
       "    }\n",
       "\n",
       "    .dataframe thead th {\n",
       "        text-align: right;\n",
       "    }\n",
       "</style>\n",
       "<table border=\"1\" class=\"dataframe\">\n",
       "  <thead>\n",
       "    <tr style=\"text-align: right;\">\n",
       "      <th></th>\n",
       "      <th>Chi-square test</th>\n",
       "      <th>results</th>\n",
       "    </tr>\n",
       "  </thead>\n",
       "  <tbody>\n",
       "    <tr>\n",
       "      <th>0</th>\n",
       "      <td>Pearson Chi-square ( 1.0) =</td>\n",
       "      <td>110.8476</td>\n",
       "    </tr>\n",
       "    <tr>\n",
       "      <th>1</th>\n",
       "      <td>p-value =</td>\n",
       "      <td>0.0000</td>\n",
       "    </tr>\n",
       "    <tr>\n",
       "      <th>2</th>\n",
       "      <td>Cramer's phi =</td>\n",
       "      <td>0.4414</td>\n",
       "    </tr>\n",
       "  </tbody>\n",
       "</table>\n",
       "</div>"
      ],
      "text/plain": [
       "                Chi-square test   results\n",
       "0  Pearson Chi-square ( 1.0) =   110.8476\n",
       "1                    p-value =     0.0000\n",
       "2               Cramer's phi =     0.4414"
      ]
     },
     "execution_count": 56,
     "metadata": {},
     "output_type": "execute_result"
    }
   ],
   "source": [
    "table,results = rp.crosstab(diagnos_data['concave_points_mean'], diagnos_data['diagnosis'], \n",
    "                            prop='col', test='chi-square')\n",
    "results"
   ]
  },
  {
   "cell_type": "code",
   "execution_count": 57,
   "metadata": {},
   "outputs": [
    {
     "data": {
      "text/html": [
       "<div>\n",
       "<style scoped>\n",
       "    .dataframe tbody tr th:only-of-type {\n",
       "        vertical-align: middle;\n",
       "    }\n",
       "\n",
       "    .dataframe tbody tr th {\n",
       "        vertical-align: top;\n",
       "    }\n",
       "\n",
       "    .dataframe thead th {\n",
       "        text-align: right;\n",
       "    }\n",
       "</style>\n",
       "<table border=\"1\" class=\"dataframe\">\n",
       "  <thead>\n",
       "    <tr style=\"text-align: right;\">\n",
       "      <th>diagnosis</th>\n",
       "      <th>B</th>\n",
       "      <th>M</th>\n",
       "      <th>All</th>\n",
       "    </tr>\n",
       "    <tr>\n",
       "      <th>symmetry_mean</th>\n",
       "      <th></th>\n",
       "      <th></th>\n",
       "      <th></th>\n",
       "    </tr>\n",
       "  </thead>\n",
       "  <tbody>\n",
       "    <tr>\n",
       "      <th>(0.1-0.2)</th>\n",
       "      <td>311</td>\n",
       "      <td>142</td>\n",
       "      <td>453</td>\n",
       "    </tr>\n",
       "    <tr>\n",
       "      <th>(0.2-0.3)</th>\n",
       "      <td>46</td>\n",
       "      <td>70</td>\n",
       "      <td>116</td>\n",
       "    </tr>\n",
       "    <tr>\n",
       "      <th>All</th>\n",
       "      <td>357</td>\n",
       "      <td>212</td>\n",
       "      <td>569</td>\n",
       "    </tr>\n",
       "  </tbody>\n",
       "</table>\n",
       "</div>"
      ],
      "text/plain": [
       "diagnosis        B    M  All\n",
       "symmetry_mean               \n",
       "(0.1-0.2)      311  142  453\n",
       "(0.2-0.3)       46   70  116\n",
       "All            357  212  569"
      ]
     },
     "execution_count": 57,
     "metadata": {},
     "output_type": "execute_result"
    }
   ],
   "source": [
    "#chi-square test between 'symmetry_mean' and 'diagnosis'\n",
    "cross_tab = pd.crosstab(diagnos_data['symmetry_mean'], diagnos_data['diagnosis'], margins=True)\n",
    "cross_tab"
   ]
  },
  {
   "cell_type": "code",
   "execution_count": 58,
   "metadata": {},
   "outputs": [
    {
     "data": {
      "text/html": [
       "<div>\n",
       "<style scoped>\n",
       "    .dataframe tbody tr th:only-of-type {\n",
       "        vertical-align: middle;\n",
       "    }\n",
       "\n",
       "    .dataframe tbody tr th {\n",
       "        vertical-align: top;\n",
       "    }\n",
       "\n",
       "    .dataframe thead th {\n",
       "        text-align: right;\n",
       "    }\n",
       "</style>\n",
       "<table border=\"1\" class=\"dataframe\">\n",
       "  <thead>\n",
       "    <tr style=\"text-align: right;\">\n",
       "      <th></th>\n",
       "      <th>Chi-square test</th>\n",
       "      <th>results</th>\n",
       "    </tr>\n",
       "  </thead>\n",
       "  <tbody>\n",
       "    <tr>\n",
       "      <th>0</th>\n",
       "      <td>Pearson Chi-square ( 1.0) =</td>\n",
       "      <td>33.2206</td>\n",
       "    </tr>\n",
       "    <tr>\n",
       "      <th>1</th>\n",
       "      <td>p-value =</td>\n",
       "      <td>0.0000</td>\n",
       "    </tr>\n",
       "    <tr>\n",
       "      <th>2</th>\n",
       "      <td>Cramer's phi =</td>\n",
       "      <td>0.2416</td>\n",
       "    </tr>\n",
       "  </tbody>\n",
       "</table>\n",
       "</div>"
      ],
      "text/plain": [
       "                Chi-square test  results\n",
       "0  Pearson Chi-square ( 1.0) =   33.2206\n",
       "1                    p-value =    0.0000\n",
       "2               Cramer's phi =    0.2416"
      ]
     },
     "execution_count": 58,
     "metadata": {},
     "output_type": "execute_result"
    }
   ],
   "source": [
    "table,results = rp.crosstab(diagnos_data['symmetry_mean'], diagnos_data['diagnosis'], \n",
    "                            prop='col', test='chi-square')\n",
    "results"
   ]
  },
  {
   "cell_type": "markdown",
   "metadata": {},
   "source": [
    "After checking the p-values, we have all independent features to build and train our model on."
   ]
  },
  {
   "cell_type": "code",
   "execution_count": 59,
   "metadata": {},
   "outputs": [],
   "source": [
    "#scaling up features\n",
    "from sklearn.preprocessing import LabelEncoder\n",
    "\n",
    "#target column\n",
    "tgt_col = ['diagnosis']\n",
    "\n",
    "#categorical columns\n",
    "category_names = diagnos_data.nunique()[diagnos_data.nunique() < 15].keys().tolist()\n",
    "category_names = [x for x in category_names if x not in tgt_col]\n",
    "\n",
    "#numerical columns\n",
    "num_cols = [i for i in diagnos_data.columns if i not in category_names+tgt_col]\n",
    "\n",
    "#binary columns\n",
    "bin_cols = diagnos_data.nunique()[diagnos_data.nunique()==2].keys().tolist()\n",
    "\n",
    "#multi-columns\n",
    "multi_cols = [i for i in category_names if i not in bin_cols]\n",
    "\n",
    "#Label Encoding Binary columns\n",
    "le = LabelEncoder()\n",
    "for i in bin_cols:\n",
    "    diagnos_data[i] = le.fit_transform(diagnos_data[i])\n",
    "\n",
    "#duplicating cols for multi-value columns\n",
    "diagnos_data = pd.get_dummies(data=diagnos_data, columns=multi_cols)"
   ]
  },
  {
   "cell_type": "code",
   "execution_count": 60,
   "metadata": {},
   "outputs": [
    {
     "data": {
      "text/plain": [
       "['radius_mean',\n",
       " 'texture_mean',\n",
       " 'perimeter_mean',\n",
       " 'area_mean',\n",
       " 'smoothness_mean',\n",
       " 'compactness_mean',\n",
       " 'concavity_mean',\n",
       " 'concave_points_mean',\n",
       " 'symmetry_mean']"
      ]
     },
     "execution_count": 60,
     "metadata": {},
     "output_type": "execute_result"
    }
   ],
   "source": [
    "category_names"
   ]
  },
  {
   "cell_type": "code",
   "execution_count": 61,
   "metadata": {},
   "outputs": [
    {
     "data": {
      "text/plain": [
       "['diagnosis', 'smoothness_mean', 'concave_points_mean', 'symmetry_mean']"
      ]
     },
     "execution_count": 61,
     "metadata": {},
     "output_type": "execute_result"
    }
   ],
   "source": [
    "bin_cols"
   ]
  },
  {
   "cell_type": "code",
   "execution_count": 62,
   "metadata": {},
   "outputs": [
    {
     "data": {
      "text/plain": [
       "['radius_mean',\n",
       " 'texture_mean',\n",
       " 'perimeter_mean',\n",
       " 'area_mean',\n",
       " 'compactness_mean',\n",
       " 'concavity_mean']"
      ]
     },
     "execution_count": 62,
     "metadata": {},
     "output_type": "execute_result"
    }
   ],
   "source": [
    "multi_cols"
   ]
  },
  {
   "cell_type": "code",
   "execution_count": 63,
   "metadata": {},
   "outputs": [
    {
     "data": {
      "text/plain": [
       "['radius_se',\n",
       " 'texture_se',\n",
       " 'perimeter_se',\n",
       " 'area_se',\n",
       " 'smoothness_se',\n",
       " 'compactness_se',\n",
       " 'concavity_se',\n",
       " 'concave_points_se',\n",
       " 'symmetry_se',\n",
       " 'fractal_dimension_se',\n",
       " 'radius_worst',\n",
       " 'texture_worst',\n",
       " 'perimeter_worst',\n",
       " 'area_worst',\n",
       " 'smoothness_worst',\n",
       " 'compactness_worst',\n",
       " 'concavity_worst',\n",
       " 'concave_points_worst',\n",
       " 'symmetry_worst',\n",
       " 'fractal_dimension_worst']"
      ]
     },
     "execution_count": 63,
     "metadata": {},
     "output_type": "execute_result"
    }
   ],
   "source": [
    "num_cols"
   ]
  },
  {
   "cell_type": "code",
   "execution_count": 64,
   "metadata": {},
   "outputs": [],
   "source": [
    "#Normalising Numerical columns\n",
    "from sklearn.preprocessing import MinMaxScaler\n",
    "minmax = MinMaxScaler()\n",
    "diagnos_data[num_cols] = minmax.fit_transform(diagnos_data[num_cols].values)"
   ]
  },
  {
   "cell_type": "code",
   "execution_count": 65,
   "metadata": {},
   "outputs": [
    {
     "data": {
      "text/html": [
       "<div>\n",
       "<style scoped>\n",
       "    .dataframe tbody tr th:only-of-type {\n",
       "        vertical-align: middle;\n",
       "    }\n",
       "\n",
       "    .dataframe tbody tr th {\n",
       "        vertical-align: top;\n",
       "    }\n",
       "\n",
       "    .dataframe thead th {\n",
       "        text-align: right;\n",
       "    }\n",
       "</style>\n",
       "<table border=\"1\" class=\"dataframe\">\n",
       "  <thead>\n",
       "    <tr style=\"text-align: right;\">\n",
       "      <th></th>\n",
       "      <th>0</th>\n",
       "      <th>1</th>\n",
       "      <th>2</th>\n",
       "      <th>3</th>\n",
       "      <th>4</th>\n",
       "    </tr>\n",
       "  </thead>\n",
       "  <tbody>\n",
       "    <tr>\n",
       "      <th>diagnosis</th>\n",
       "      <td>1.000000</td>\n",
       "      <td>1.000000</td>\n",
       "      <td>1.000000</td>\n",
       "      <td>1.000000</td>\n",
       "      <td>1.000000</td>\n",
       "    </tr>\n",
       "    <tr>\n",
       "      <th>smoothness_mean</th>\n",
       "      <td>1.000000</td>\n",
       "      <td>0.000000</td>\n",
       "      <td>1.000000</td>\n",
       "      <td>1.000000</td>\n",
       "      <td>1.000000</td>\n",
       "    </tr>\n",
       "    <tr>\n",
       "      <th>concave_points_mean</th>\n",
       "      <td>1.000000</td>\n",
       "      <td>0.000000</td>\n",
       "      <td>1.000000</td>\n",
       "      <td>1.000000</td>\n",
       "      <td>1.000000</td>\n",
       "    </tr>\n",
       "    <tr>\n",
       "      <th>symmetry_mean</th>\n",
       "      <td>1.000000</td>\n",
       "      <td>0.000000</td>\n",
       "      <td>1.000000</td>\n",
       "      <td>1.000000</td>\n",
       "      <td>0.000000</td>\n",
       "    </tr>\n",
       "    <tr>\n",
       "      <th>radius_se</th>\n",
       "      <td>0.356147</td>\n",
       "      <td>0.156437</td>\n",
       "      <td>0.229622</td>\n",
       "      <td>0.139091</td>\n",
       "      <td>0.233822</td>\n",
       "    </tr>\n",
       "    <tr>\n",
       "      <th>...</th>\n",
       "      <td>...</td>\n",
       "      <td>...</td>\n",
       "      <td>...</td>\n",
       "      <td>...</td>\n",
       "      <td>...</td>\n",
       "    </tr>\n",
       "    <tr>\n",
       "      <th>compactness_mean_(0.237-0.01938)</th>\n",
       "      <td>1.000000</td>\n",
       "      <td>0.000000</td>\n",
       "      <td>0.000000</td>\n",
       "      <td>1.000000</td>\n",
       "      <td>0.000000</td>\n",
       "    </tr>\n",
       "    <tr>\n",
       "      <th>concavity_mean_(0.0-0.1)</th>\n",
       "      <td>0.000000</td>\n",
       "      <td>1.000000</td>\n",
       "      <td>0.000000</td>\n",
       "      <td>0.000000</td>\n",
       "      <td>0.000000</td>\n",
       "    </tr>\n",
       "    <tr>\n",
       "      <th>concavity_mean_(0.1-0.2)</th>\n",
       "      <td>0.000000</td>\n",
       "      <td>0.000000</td>\n",
       "      <td>1.000000</td>\n",
       "      <td>0.000000</td>\n",
       "      <td>1.000000</td>\n",
       "    </tr>\n",
       "    <tr>\n",
       "      <th>concavity_mean_(0.2-0.3)</th>\n",
       "      <td>0.000000</td>\n",
       "      <td>0.000000</td>\n",
       "      <td>0.000000</td>\n",
       "      <td>1.000000</td>\n",
       "      <td>0.000000</td>\n",
       "    </tr>\n",
       "    <tr>\n",
       "      <th>concavity_mean_(0.3-0.4268)</th>\n",
       "      <td>1.000000</td>\n",
       "      <td>0.000000</td>\n",
       "      <td>0.000000</td>\n",
       "      <td>0.000000</td>\n",
       "      <td>0.000000</td>\n",
       "    </tr>\n",
       "  </tbody>\n",
       "</table>\n",
       "<p>61 rows × 5 columns</p>\n",
       "</div>"
      ],
      "text/plain": [
       "                                         0         1         2         3  \\\n",
       "diagnosis                         1.000000  1.000000  1.000000  1.000000   \n",
       "smoothness_mean                   1.000000  0.000000  1.000000  1.000000   \n",
       "concave_points_mean               1.000000  0.000000  1.000000  1.000000   \n",
       "symmetry_mean                     1.000000  0.000000  1.000000  1.000000   \n",
       "radius_se                         0.356147  0.156437  0.229622  0.139091   \n",
       "...                                    ...       ...       ...       ...   \n",
       "compactness_mean_(0.237-0.01938)  1.000000  0.000000  0.000000  1.000000   \n",
       "concavity_mean_(0.0-0.1)          0.000000  1.000000  0.000000  0.000000   \n",
       "concavity_mean_(0.1-0.2)          0.000000  0.000000  1.000000  0.000000   \n",
       "concavity_mean_(0.2-0.3)          0.000000  0.000000  0.000000  1.000000   \n",
       "concavity_mean_(0.3-0.4268)       1.000000  0.000000  0.000000  0.000000   \n",
       "\n",
       "                                         4  \n",
       "diagnosis                         1.000000  \n",
       "smoothness_mean                   1.000000  \n",
       "concave_points_mean               1.000000  \n",
       "symmetry_mean                     0.000000  \n",
       "radius_se                         0.233822  \n",
       "...                                    ...  \n",
       "compactness_mean_(0.237-0.01938)  0.000000  \n",
       "concavity_mean_(0.0-0.1)          0.000000  \n",
       "concavity_mean_(0.1-0.2)          1.000000  \n",
       "concavity_mean_(0.2-0.3)          0.000000  \n",
       "concavity_mean_(0.3-0.4268)       0.000000  \n",
       "\n",
       "[61 rows x 5 columns]"
      ]
     },
     "execution_count": 65,
     "metadata": {},
     "output_type": "execute_result"
    }
   ],
   "source": [
    "diagnos_data.head().T"
   ]
  },
  {
   "cell_type": "code",
   "execution_count": 66,
   "metadata": {},
   "outputs": [],
   "source": [
    "chi2, p_values = [], []\n",
    "for f in num_cols:\n",
    "    chitest = chi2_contingency(pd.crosstab(diagnos_data[f], diagnos_data['diagnosis']))\n",
    "    p_values.append(np.round(chitest[1],6))\n",
    "\n",
    "chi_results = pd.DataFrame(p_values, index=num_cols)"
   ]
  },
  {
   "cell_type": "code",
   "execution_count": 67,
   "metadata": {},
   "outputs": [
    {
     "data": {
      "text/html": [
       "<div>\n",
       "<style scoped>\n",
       "    .dataframe tbody tr th:only-of-type {\n",
       "        vertical-align: middle;\n",
       "    }\n",
       "\n",
       "    .dataframe tbody tr th {\n",
       "        vertical-align: top;\n",
       "    }\n",
       "\n",
       "    .dataframe thead th {\n",
       "        text-align: right;\n",
       "    }\n",
       "</style>\n",
       "<table border=\"1\" class=\"dataframe\">\n",
       "  <thead>\n",
       "    <tr style=\"text-align: right;\">\n",
       "      <th></th>\n",
       "      <th>0</th>\n",
       "    </tr>\n",
       "  </thead>\n",
       "  <tbody>\n",
       "    <tr>\n",
       "      <th>radius_se</th>\n",
       "      <td>0.280909</td>\n",
       "    </tr>\n",
       "    <tr>\n",
       "      <th>texture_se</th>\n",
       "      <td>0.522415</td>\n",
       "    </tr>\n",
       "    <tr>\n",
       "      <th>perimeter_se</th>\n",
       "      <td>0.226535</td>\n",
       "    </tr>\n",
       "    <tr>\n",
       "      <th>area_se</th>\n",
       "      <td>0.212835</td>\n",
       "    </tr>\n",
       "    <tr>\n",
       "      <th>smoothness_se</th>\n",
       "      <td>0.348358</td>\n",
       "    </tr>\n",
       "    <tr>\n",
       "      <th>compactness_se</th>\n",
       "      <td>0.360170</td>\n",
       "    </tr>\n",
       "    <tr>\n",
       "      <th>concavity_se</th>\n",
       "      <td>0.246177</td>\n",
       "    </tr>\n",
       "    <tr>\n",
       "      <th>concave_points_se</th>\n",
       "      <td>0.417754</td>\n",
       "    </tr>\n",
       "    <tr>\n",
       "      <th>symmetry_se</th>\n",
       "      <td>0.608326</td>\n",
       "    </tr>\n",
       "    <tr>\n",
       "      <th>fractal_dimension_se</th>\n",
       "      <td>0.448507</td>\n",
       "    </tr>\n",
       "    <tr>\n",
       "      <th>radius_worst</th>\n",
       "      <td>0.004962</td>\n",
       "    </tr>\n",
       "    <tr>\n",
       "      <th>texture_worst</th>\n",
       "      <td>0.432058</td>\n",
       "    </tr>\n",
       "    <tr>\n",
       "      <th>perimeter_worst</th>\n",
       "      <td>0.231322</td>\n",
       "    </tr>\n",
       "    <tr>\n",
       "      <th>area_worst</th>\n",
       "      <td>0.315495</td>\n",
       "    </tr>\n",
       "    <tr>\n",
       "      <th>smoothness_worst</th>\n",
       "      <td>0.242729</td>\n",
       "    </tr>\n",
       "    <tr>\n",
       "      <th>compactness_worst</th>\n",
       "      <td>0.261727</td>\n",
       "    </tr>\n",
       "    <tr>\n",
       "      <th>concavity_worst</th>\n",
       "      <td>0.292290</td>\n",
       "    </tr>\n",
       "    <tr>\n",
       "      <th>concave_points_worst</th>\n",
       "      <td>0.042703</td>\n",
       "    </tr>\n",
       "    <tr>\n",
       "      <th>symmetry_worst</th>\n",
       "      <td>0.427553</td>\n",
       "    </tr>\n",
       "    <tr>\n",
       "      <th>fractal_dimension_worst</th>\n",
       "      <td>0.517207</td>\n",
       "    </tr>\n",
       "  </tbody>\n",
       "</table>\n",
       "</div>"
      ],
      "text/plain": [
       "                                0\n",
       "radius_se                0.280909\n",
       "texture_se               0.522415\n",
       "perimeter_se             0.226535\n",
       "area_se                  0.212835\n",
       "smoothness_se            0.348358\n",
       "compactness_se           0.360170\n",
       "concavity_se             0.246177\n",
       "concave_points_se        0.417754\n",
       "symmetry_se              0.608326\n",
       "fractal_dimension_se     0.448507\n",
       "radius_worst             0.004962\n",
       "texture_worst            0.432058\n",
       "perimeter_worst          0.231322\n",
       "area_worst               0.315495\n",
       "smoothness_worst         0.242729\n",
       "compactness_worst        0.261727\n",
       "concavity_worst          0.292290\n",
       "concave_points_worst     0.042703\n",
       "symmetry_worst           0.427553\n",
       "fractal_dimension_worst  0.517207"
      ]
     },
     "execution_count": 67,
     "metadata": {},
     "output_type": "execute_result"
    }
   ],
   "source": [
    "chi_results"
   ]
  },
  {
   "cell_type": "code",
   "execution_count": 68,
   "metadata": {},
   "outputs": [],
   "source": [
    "#diagnos_data.drop(['radius_se','texture_se','perimeter_se','area_se','smoothness_se','compactness_se','concavity_se',\n",
    "#                   'concave_points_se','symmetry_se','fractal_dimension_se','texture_worst','perimeter_worst','area_worst',\n",
    "#                   'smoothness_worst','compactness_worst','concavity_worst','symmetry_worst','fractal_dimension_worst'],\n",
    "#                axis=1, inplace=True)"
   ]
  },
  {
   "cell_type": "code",
   "execution_count": 69,
   "metadata": {},
   "outputs": [],
   "source": [
    "#Model Building\n",
    "X = diagnos_data.drop(columns='diagnosis').copy()\n",
    "Y = pd.DataFrame(diagnos_data['diagnosis'])"
   ]
  },
  {
   "cell_type": "code",
   "execution_count": 70,
   "metadata": {},
   "outputs": [
    {
     "name": "stdout",
     "output_type": "stream",
     "text": [
      "<class 'pandas.core.frame.DataFrame'>\n",
      "RangeIndex: 569 entries, 0 to 568\n",
      "Data columns (total 60 columns):\n",
      " #   Column                            Non-Null Count  Dtype  \n",
      "---  ------                            --------------  -----  \n",
      " 0   smoothness_mean                   569 non-null    int32  \n",
      " 1   concave_points_mean               569 non-null    int32  \n",
      " 2   symmetry_mean                     569 non-null    int32  \n",
      " 3   radius_se                         569 non-null    float64\n",
      " 4   texture_se                        569 non-null    float64\n",
      " 5   perimeter_se                      569 non-null    float64\n",
      " 6   area_se                           569 non-null    float64\n",
      " 7   smoothness_se                     569 non-null    float64\n",
      " 8   compactness_se                    569 non-null    float64\n",
      " 9   concavity_se                      569 non-null    float64\n",
      " 10  concave_points_se                 569 non-null    float64\n",
      " 11  symmetry_se                       569 non-null    float64\n",
      " 12  fractal_dimension_se              569 non-null    float64\n",
      " 13  radius_worst                      569 non-null    float64\n",
      " 14  texture_worst                     569 non-null    float64\n",
      " 15  perimeter_worst                   569 non-null    float64\n",
      " 16  area_worst                        569 non-null    float64\n",
      " 17  smoothness_worst                  569 non-null    float64\n",
      " 18  compactness_worst                 569 non-null    float64\n",
      " 19  concavity_worst                   569 non-null    float64\n",
      " 20  concave_points_worst              569 non-null    float64\n",
      " 21  symmetry_worst                    569 non-null    float64\n",
      " 22  fractal_dimension_worst           569 non-null    float64\n",
      " 23  radius_mean_(6.981-11.2068)       569 non-null    uint8  \n",
      " 24  radius_mean_(11.2068-15.4326)     569 non-null    uint8  \n",
      " 25  radius_mean_(15.4326-19.6584)     569 non-null    uint8  \n",
      " 26  radius_mean_(19.6584-23.8842)     569 non-null    uint8  \n",
      " 27  radius_mean_(23.8842-28.11)       569 non-null    uint8  \n",
      " 28  texture_mean_(6.981-11.2068)      569 non-null    uint8  \n",
      " 29  texture_mean_(11.2068-15.4326)    569 non-null    uint8  \n",
      " 30  texture_mean_(15.4326-19.6584)    569 non-null    uint8  \n",
      " 31  texture_mean_(19.6584-23.8842)    569 non-null    uint8  \n",
      " 32  texture_mean_(23.8842-28.11)      569 non-null    uint8  \n",
      " 33  perimeter_mean_(43.79-58.261)     569 non-null    uint8  \n",
      " 34  perimeter_mean_(58.261-72.732)    569 non-null    uint8  \n",
      " 35  perimeter_mean_(72.732-87.203)    569 non-null    uint8  \n",
      " 36  perimeter_mean_(87.203-101.674)   569 non-null    uint8  \n",
      " 37  perimeter_mean_(101.674-116.145)  569 non-null    uint8  \n",
      " 38  perimeter_mean_(116.145-130.616)  569 non-null    uint8  \n",
      " 39  perimeter_mean_(130.616-145.087)  569 non-null    uint8  \n",
      " 40  perimeter_mean_(145.087-159.558)  569 non-null    uint8  \n",
      " 41  perimeter_mean_(159.558-174.029)  569 non-null    uint8  \n",
      " 42  perimeter_mean_(174.029-188.5)    569 non-null    uint8  \n",
      " 43  area_mean_(143.5-379.25)          569 non-null    uint8  \n",
      " 44  area_mean_(379.25-615.0)          569 non-null    uint8  \n",
      " 45  area_mean_(615.0-850.75)          569 non-null    uint8  \n",
      " 46  area_mean_(850.75-1086.5)         569 non-null    uint8  \n",
      " 47  area_mean_(1086.5-1322.25)        569 non-null    uint8  \n",
      " 48  area_mean_(1322.25-1558.0)        569 non-null    uint8  \n",
      " 49  area_mean_(1558.0-1793.75)        569 non-null    uint8  \n",
      " 50  area_mean_(1793.75-2029.5)        569 non-null    uint8  \n",
      " 51  area_mean_(2029.5-2265.25)        569 non-null    uint8  \n",
      " 52  area_mean_(2265.25-2501.0)        569 non-null    uint8  \n",
      " 53  compactness_mean_(0.01938-0.128)  569 non-null    uint8  \n",
      " 54  compactness_mean_(0.128-0.237)    569 non-null    uint8  \n",
      " 55  compactness_mean_(0.237-0.01938)  569 non-null    uint8  \n",
      " 56  concavity_mean_(0.0-0.1)          569 non-null    uint8  \n",
      " 57  concavity_mean_(0.1-0.2)          569 non-null    uint8  \n",
      " 58  concavity_mean_(0.2-0.3)          569 non-null    uint8  \n",
      " 59  concavity_mean_(0.3-0.4268)       569 non-null    uint8  \n",
      "dtypes: float64(20), int32(3), uint8(37)\n",
      "memory usage: 116.3 KB\n"
     ]
    }
   ],
   "source": [
    "X.info()"
   ]
  },
  {
   "cell_type": "code",
   "execution_count": 71,
   "metadata": {},
   "outputs": [
    {
     "data": {
      "text/html": [
       "<div>\n",
       "<style scoped>\n",
       "    .dataframe tbody tr th:only-of-type {\n",
       "        vertical-align: middle;\n",
       "    }\n",
       "\n",
       "    .dataframe tbody tr th {\n",
       "        vertical-align: top;\n",
       "    }\n",
       "\n",
       "    .dataframe thead th {\n",
       "        text-align: right;\n",
       "    }\n",
       "</style>\n",
       "<table border=\"1\" class=\"dataframe\">\n",
       "  <thead>\n",
       "    <tr style=\"text-align: right;\">\n",
       "      <th></th>\n",
       "      <th>diagnosis</th>\n",
       "    </tr>\n",
       "  </thead>\n",
       "  <tbody>\n",
       "    <tr>\n",
       "      <th>0</th>\n",
       "      <td>1</td>\n",
       "    </tr>\n",
       "    <tr>\n",
       "      <th>1</th>\n",
       "      <td>1</td>\n",
       "    </tr>\n",
       "    <tr>\n",
       "      <th>2</th>\n",
       "      <td>1</td>\n",
       "    </tr>\n",
       "    <tr>\n",
       "      <th>3</th>\n",
       "      <td>1</td>\n",
       "    </tr>\n",
       "    <tr>\n",
       "      <th>4</th>\n",
       "      <td>1</td>\n",
       "    </tr>\n",
       "    <tr>\n",
       "      <th>...</th>\n",
       "      <td>...</td>\n",
       "    </tr>\n",
       "    <tr>\n",
       "      <th>564</th>\n",
       "      <td>1</td>\n",
       "    </tr>\n",
       "    <tr>\n",
       "      <th>565</th>\n",
       "      <td>1</td>\n",
       "    </tr>\n",
       "    <tr>\n",
       "      <th>566</th>\n",
       "      <td>1</td>\n",
       "    </tr>\n",
       "    <tr>\n",
       "      <th>567</th>\n",
       "      <td>1</td>\n",
       "    </tr>\n",
       "    <tr>\n",
       "      <th>568</th>\n",
       "      <td>0</td>\n",
       "    </tr>\n",
       "  </tbody>\n",
       "</table>\n",
       "<p>569 rows × 1 columns</p>\n",
       "</div>"
      ],
      "text/plain": [
       "     diagnosis\n",
       "0            1\n",
       "1            1\n",
       "2            1\n",
       "3            1\n",
       "4            1\n",
       "..         ...\n",
       "564          1\n",
       "565          1\n",
       "566          1\n",
       "567          1\n",
       "568          0\n",
       "\n",
       "[569 rows x 1 columns]"
      ]
     },
     "execution_count": 71,
     "metadata": {},
     "output_type": "execute_result"
    }
   ],
   "source": [
    "Y"
   ]
  },
  {
   "cell_type": "code",
   "execution_count": 72,
   "metadata": {},
   "outputs": [],
   "source": [
    "#Logistic Regression Using sklearn\n",
    "\n",
    "#train-test split\n",
    "X_train, X_test, Y_train, Y_test = train_test_split(X, Y, test_size=0.3, stratify=Y, random_state=0)\n",
    "\n",
    "#initialise the model\n",
    "logReg = LogisticRegression()\n",
    "\n",
    "#traing the model\n",
    "logReg.fit(X_train, Y_train)\n",
    "\n",
    "#predict labels for test data\n",
    "y_train_pred = logReg.predict(X_train)\n",
    "y_test_pred = logReg.predict(X_test)\n",
    "\n",
    "#predict probabilities\n",
    "y_train_pred_prob = logReg.predict_proba(X_train)\n",
    "y_test_pred_prob = logReg.predict_proba(X_test)"
   ]
  },
  {
   "cell_type": "code",
   "execution_count": 73,
   "metadata": {},
   "outputs": [
    {
     "name": "stdout",
     "output_type": "stream",
     "text": [
      "Accuracy score on train data:  0.96\n",
      "Accuracy score on test data:  0.93\n"
     ]
    }
   ],
   "source": [
    "#Model Evaluation\n",
    "train_score = logReg.score(X_train,Y_train)\n",
    "print(\"Accuracy score on train data: \", train_score.round(2))\n",
    "\n",
    "test_score = logReg.score(X_test,Y_test)\n",
    "print(\"Accuracy score on test data: \", test_score.round(2))"
   ]
  },
  {
   "cell_type": "code",
   "execution_count": 74,
   "metadata": {},
   "outputs": [
    {
     "name": "stdout",
     "output_type": "stream",
     "text": [
      "Train Classification Report\n",
      "              precision    recall  f1-score   support\n",
      "\n",
      "           0       0.95      0.98      0.97       250\n",
      "           1       0.97      0.92      0.94       148\n",
      "\n",
      "    accuracy                           0.96       398\n",
      "   macro avg       0.96      0.95      0.96       398\n",
      "weighted avg       0.96      0.96      0.96       398\n",
      "\n",
      "\n",
      "\n",
      "Test Classification Report\n",
      "              precision    recall  f1-score   support\n",
      "\n",
      "           0       0.96      0.93      0.94       107\n",
      "           1       0.88      0.94      0.91        64\n",
      "\n",
      "    accuracy                           0.93       171\n",
      "   macro avg       0.92      0.93      0.93       171\n",
      "weighted avg       0.93      0.93      0.93       171\n",
      "\n"
     ]
    }
   ],
   "source": [
    "#classification Report\n",
    "print(\"Train Classification Report\")\n",
    "print(classification_report(Y_train,y_train_pred))\n",
    "\n",
    "print(\"\\n\")\n",
    "\n",
    "print(\"Test Classification Report\")\n",
    "print(classification_report(Y_test,y_test_pred))"
   ]
  },
  {
   "cell_type": "code",
   "execution_count": 75,
   "metadata": {},
   "outputs": [
    {
     "name": "stdout",
     "output_type": "stream",
     "text": [
      "[[246   4]\n",
      " [ 12 136]]\n"
     ]
    }
   ],
   "source": [
    "#Confusion Matrix\n",
    "cm_train = confusion_matrix(Y_train, y_train_pred)\n",
    "print(cm_train)"
   ]
  },
  {
   "cell_type": "code",
   "execution_count": 76,
   "metadata": {},
   "outputs": [
    {
     "data": {
      "image/png": "[encoded data removed]",
      "text/plain": [
       "<Figure size 576x360 with 2 Axes>"
      ]
     },
     "metadata": {
      "needs_background": "light"
     },
     "output_type": "display_data"
    }
   ],
   "source": [
    "plt.figure(figsize=(8,5))\n",
    "\n",
    "sns.heatmap(cm_train, annot=True, fmt='.2f', annot_kws={'fontsize':18}, xticklabels=['Benign', 'Malignant'], yticklabels=['Benign', 'Malignant'], cmap=sns.color_palette(\"coolwarm\",10))\n",
    "plt.ylabel('Actual')\n",
    "plt.xlabel('Predicted')\n",
    "plt.show()"
   ]
  },
  {
   "cell_type": "code",
   "execution_count": 77,
   "metadata": {},
   "outputs": [
    {
     "name": "stdout",
     "output_type": "stream",
     "text": [
      "Area under the ROC Curve: %f 0.9839369158878506\n"
     ]
    },
    {
     "data": {
      "image/png": "[encoded data removed]",
      "text/plain": [
       "<Figure size 432x288 with 1 Axes>"
      ]
     },
     "metadata": {
      "needs_background": "light"
     },
     "output_type": "display_data"
    }
   ],
   "source": [
    "#ROC Curve for Logistic Regression\n",
    "from sklearn.metrics import roc_curve, auc\n",
    "\n",
    "fpr,tpr,thresholds = roc_curve(Y_test, y_test_pred_prob[:,1], drop_intermediate=True)\n",
    "roc_auc = auc(fpr,tpr)\n",
    "print(\"Area under the ROC Curve: %f\", roc_auc)\n",
    "\n",
    "plt.title('Reciever Operating Characteristic')\n",
    "plt.rcParams[\"figure.figsize\"]=(12,8)\n",
    "plt.plot(fpr, tpr, 'b', label='AUC = %0.2f'% roc_auc)\n",
    "plt.legend(loc='lower right')\n",
    "plt.plot([0,1], [0,1], 'r--')\n",
    "plt.xlim([0,1])\n",
    "plt.ylim([0,1])\n",
    "plt.ylabel('True Positive Rate')\n",
    "plt.xlabel('False Positive Rate')\n",
    "plt.show()"
   ]
  },
  {
   "cell_type": "code",
   "execution_count": 78,
   "metadata": {},
   "outputs": [
    {
     "data": {
      "text/html": [
       "<div>\n",
       "<style scoped>\n",
       "    .dataframe tbody tr th:only-of-type {\n",
       "        vertical-align: middle;\n",
       "    }\n",
       "\n",
       "    .dataframe tbody tr th {\n",
       "        vertical-align: top;\n",
       "    }\n",
       "\n",
       "    .dataframe thead th {\n",
       "        text-align: right;\n",
       "    }\n",
       "</style>\n",
       "<table border=\"1\" class=\"dataframe\">\n",
       "  <thead>\n",
       "    <tr style=\"text-align: right;\">\n",
       "      <th></th>\n",
       "      <th>fpr</th>\n",
       "      <th>tpr</th>\n",
       "      <th>1-fpr</th>\n",
       "      <th>tf</th>\n",
       "      <th>thresholds</th>\n",
       "    </tr>\n",
       "  </thead>\n",
       "  <tbody>\n",
       "    <tr>\n",
       "      <th>10</th>\n",
       "      <td>0.056075</td>\n",
       "      <td>0.9375</td>\n",
       "      <td>0.943925</td>\n",
       "      <td>-0.006425</td>\n",
       "      <td>0.583255</td>\n",
       "    </tr>\n",
       "  </tbody>\n",
       "</table>\n",
       "</div>"
      ],
      "text/plain": [
       "         fpr     tpr     1-fpr        tf  thresholds\n",
       "10  0.056075  0.9375  0.943925 -0.006425    0.583255"
      ]
     },
     "execution_count": 78,
     "metadata": {},
     "output_type": "execute_result"
    }
   ],
   "source": [
    "i = np.arange(len(tpr))\n",
    "roc = pd.DataFrame({'fpr': pd.Series(fpr,index=i),'tpr':pd.Series(tpr,index=i),\n",
    "                   '1-fpr': pd.Series(1-fpr, index=i), 'tf':pd.Series(tpr-(1-fpr),index=i),\n",
    "                   'thresholds': pd.Series(thresholds, index=i)})\n",
    "roc.iloc[(roc.tf-0).abs().argsort()[:1]]"
   ]
  },
  {
   "cell_type": "code",
   "execution_count": 79,
   "metadata": {},
   "outputs": [
    {
     "data": {
      "text/plain": [
       "[Text(-2.5, 0, ''),\n",
       " Text(0.0, 0, ''),\n",
       " Text(2.5, 0, ''),\n",
       " Text(5.0, 0, ''),\n",
       " Text(7.5, 0, ''),\n",
       " Text(10.0, 0, ''),\n",
       " Text(12.5, 0, ''),\n",
       " Text(15.0, 0, ''),\n",
       " Text(17.5, 0, ''),\n",
       " Text(20.0, 0, '')]"
      ]
     },
     "execution_count": 79,
     "metadata": {},
     "output_type": "execute_result"
    },
    {
     "data": {
      "image/png": "[encoded data removed]",
      "text/plain": [
       "<Figure size 720x360 with 1 Axes>"
      ]
     },
     "metadata": {
      "needs_background": "light"
     },
     "output_type": "display_data"
    }
   ],
   "source": [
    "#plot tpr Vs 1-fpr\n",
    "fig,ax = plt.subplots(figsize=(10,5))\n",
    "plt.plot(roc['tpr'])\n",
    "plt.plot(roc['1-fpr'],color='red')\n",
    "plt.xlabel('1-False Positive Rate')\n",
    "plt.ylabel('True Positive Rate')\n",
    "plt.title('Receiver Operating Characteristics', fontsize=15)\n",
    "ax.set_xticklabels([])"
   ]
  },
  {
   "cell_type": "code",
   "execution_count": 80,
   "metadata": {},
   "outputs": [
    {
     "data": {
      "image/png": "[encoded data removed]",
      "text/plain": [
       "<Figure size 720x504 with 1 Axes>"
      ]
     },
     "metadata": {
      "needs_background": "light"
     },
     "output_type": "display_data"
    }
   ],
   "source": [
    "#Precision-Recall Curve\n",
    "precisions_lg, recalls_lg, thresholds_lg = precision_recall_curve(Y_test, y_test_pred_prob[:,1])\n",
    "\n",
    "plt.figure(figsize=(10,7))\n",
    "plt.plot(thresholds_lg, precisions_lg[:-1], 'b--', label='precision')\n",
    "plt.plot(thresholds_lg, recalls_lg[:-1], 'g--', label='recall')\n",
    "plt.xlabel('Threshold')\n",
    "plt.legend(loc='upper left')\n",
    "plt.ylim([0,1])\n",
    "plt.show()"
   ]
  },
  {
   "cell_type": "code",
   "execution_count": 81,
   "metadata": {},
   "outputs": [],
   "source": [
    "from sklearn.metrics import precision_score, recall_score, precision_recall_curve"
   ]
  },
  {
   "cell_type": "code",
   "execution_count": 82,
   "metadata": {},
   "outputs": [],
   "source": [
    "pred_proba_df = pd.DataFrame(logReg.predict_proba(X_test))\n",
    "threshold_list = [0.05,0.1,0.15,0.2,0.25,0.3,0.35,0.4,0.45,0.5,0.55,0.6,0.65,0.7,0.75,0.8,0.85,0.9,0.95,0.99]\n",
    "precision_lst = []\n",
    "recall_lst = []\n",
    "for i in threshold_list:\n",
    "    Y_test_pred = pred_proba_df.applymap(lambda x: 1 if x>i else 0)\n",
    "    precision = precision_score(Y_test.values.reshape(Y_test.values.size,1),\n",
    "                               (Y_test_pred.iloc[:,1].values.reshape(Y_test_pred.iloc[:,1].values.size,1)))\n",
    "    precision_lst.append(precision)\n",
    "    recall = recall_score(Y_test.values.reshape(Y_test.values.size,1),\n",
    "                         (Y_test_pred.iloc[:,1].values.reshape(Y_test_pred.iloc[:,1].values.size,1)))\n",
    "    recall_lst.append(recall)"
   ]
  },
  {
   "cell_type": "code",
   "execution_count": 83,
   "metadata": {},
   "outputs": [],
   "source": [
    "thresh_df = pd.DataFrame()\n",
    "thresh_df['Threshold'] = threshold_list\n",
    "thresh_df['Precision'] = precision_lst\n",
    "thresh_df['Recall'] = recall_lst"
   ]
  },
  {
   "cell_type": "code",
   "execution_count": 84,
   "metadata": {},
   "outputs": [
    {
     "data": {
      "text/html": [
       "<div>\n",
       "<style scoped>\n",
       "    .dataframe tbody tr th:only-of-type {\n",
       "        vertical-align: middle;\n",
       "    }\n",
       "\n",
       "    .dataframe tbody tr th {\n",
       "        vertical-align: top;\n",
       "    }\n",
       "\n",
       "    .dataframe thead th {\n",
       "        text-align: right;\n",
       "    }\n",
       "</style>\n",
       "<table border=\"1\" class=\"dataframe\">\n",
       "  <thead>\n",
       "    <tr style=\"text-align: right;\">\n",
       "      <th></th>\n",
       "      <th>Threshold</th>\n",
       "      <th>Precision</th>\n",
       "      <th>Recall</th>\n",
       "    </tr>\n",
       "  </thead>\n",
       "  <tbody>\n",
       "    <tr>\n",
       "      <th>0</th>\n",
       "      <td>0.05</td>\n",
       "      <td>0.598131</td>\n",
       "      <td>1.000000</td>\n",
       "    </tr>\n",
       "    <tr>\n",
       "      <th>1</th>\n",
       "      <td>0.10</td>\n",
       "      <td>0.712644</td>\n",
       "      <td>0.968750</td>\n",
       "    </tr>\n",
       "    <tr>\n",
       "      <th>2</th>\n",
       "      <td>0.15</td>\n",
       "      <td>0.765432</td>\n",
       "      <td>0.968750</td>\n",
       "    </tr>\n",
       "    <tr>\n",
       "      <th>3</th>\n",
       "      <td>0.20</td>\n",
       "      <td>0.815789</td>\n",
       "      <td>0.968750</td>\n",
       "    </tr>\n",
       "    <tr>\n",
       "      <th>4</th>\n",
       "      <td>0.25</td>\n",
       "      <td>0.815789</td>\n",
       "      <td>0.968750</td>\n",
       "    </tr>\n",
       "    <tr>\n",
       "      <th>5</th>\n",
       "      <td>0.30</td>\n",
       "      <td>0.815789</td>\n",
       "      <td>0.968750</td>\n",
       "    </tr>\n",
       "    <tr>\n",
       "      <th>6</th>\n",
       "      <td>0.35</td>\n",
       "      <td>0.837838</td>\n",
       "      <td>0.968750</td>\n",
       "    </tr>\n",
       "    <tr>\n",
       "      <th>7</th>\n",
       "      <td>0.40</td>\n",
       "      <td>0.859155</td>\n",
       "      <td>0.953125</td>\n",
       "    </tr>\n",
       "    <tr>\n",
       "      <th>8</th>\n",
       "      <td>0.45</td>\n",
       "      <td>0.869565</td>\n",
       "      <td>0.937500</td>\n",
       "    </tr>\n",
       "    <tr>\n",
       "      <th>9</th>\n",
       "      <td>0.50</td>\n",
       "      <td>0.882353</td>\n",
       "      <td>0.937500</td>\n",
       "    </tr>\n",
       "    <tr>\n",
       "      <th>10</th>\n",
       "      <td>0.55</td>\n",
       "      <td>0.895522</td>\n",
       "      <td>0.937500</td>\n",
       "    </tr>\n",
       "    <tr>\n",
       "      <th>11</th>\n",
       "      <td>0.60</td>\n",
       "      <td>0.907692</td>\n",
       "      <td>0.921875</td>\n",
       "    </tr>\n",
       "    <tr>\n",
       "      <th>12</th>\n",
       "      <td>0.65</td>\n",
       "      <td>0.920635</td>\n",
       "      <td>0.906250</td>\n",
       "    </tr>\n",
       "    <tr>\n",
       "      <th>13</th>\n",
       "      <td>0.70</td>\n",
       "      <td>0.950000</td>\n",
       "      <td>0.890625</td>\n",
       "    </tr>\n",
       "    <tr>\n",
       "      <th>14</th>\n",
       "      <td>0.75</td>\n",
       "      <td>0.966102</td>\n",
       "      <td>0.890625</td>\n",
       "    </tr>\n",
       "    <tr>\n",
       "      <th>15</th>\n",
       "      <td>0.80</td>\n",
       "      <td>0.964286</td>\n",
       "      <td>0.843750</td>\n",
       "    </tr>\n",
       "    <tr>\n",
       "      <th>16</th>\n",
       "      <td>0.85</td>\n",
       "      <td>0.962963</td>\n",
       "      <td>0.812500</td>\n",
       "    </tr>\n",
       "    <tr>\n",
       "      <th>17</th>\n",
       "      <td>0.90</td>\n",
       "      <td>1.000000</td>\n",
       "      <td>0.781250</td>\n",
       "    </tr>\n",
       "    <tr>\n",
       "      <th>18</th>\n",
       "      <td>0.95</td>\n",
       "      <td>1.000000</td>\n",
       "      <td>0.671875</td>\n",
       "    </tr>\n",
       "    <tr>\n",
       "      <th>19</th>\n",
       "      <td>0.99</td>\n",
       "      <td>1.000000</td>\n",
       "      <td>0.359375</td>\n",
       "    </tr>\n",
       "  </tbody>\n",
       "</table>\n",
       "</div>"
      ],
      "text/plain": [
       "    Threshold  Precision    Recall\n",
       "0        0.05   0.598131  1.000000\n",
       "1        0.10   0.712644  0.968750\n",
       "2        0.15   0.765432  0.968750\n",
       "3        0.20   0.815789  0.968750\n",
       "4        0.25   0.815789  0.968750\n",
       "5        0.30   0.815789  0.968750\n",
       "6        0.35   0.837838  0.968750\n",
       "7        0.40   0.859155  0.953125\n",
       "8        0.45   0.869565  0.937500\n",
       "9        0.50   0.882353  0.937500\n",
       "10       0.55   0.895522  0.937500\n",
       "11       0.60   0.907692  0.921875\n",
       "12       0.65   0.920635  0.906250\n",
       "13       0.70   0.950000  0.890625\n",
       "14       0.75   0.966102  0.890625\n",
       "15       0.80   0.964286  0.843750\n",
       "16       0.85   0.962963  0.812500\n",
       "17       0.90   1.000000  0.781250\n",
       "18       0.95   1.000000  0.671875\n",
       "19       0.99   1.000000  0.359375"
      ]
     },
     "execution_count": 84,
     "metadata": {},
     "output_type": "execute_result"
    }
   ],
   "source": [
    "thresh_df"
   ]
  },
  {
   "cell_type": "code",
   "execution_count": 85,
   "metadata": {},
   "outputs": [
    {
     "data": {
      "text/plain": [
       "Text(0.5, 1.0, 'Recall Curve at various cut-offs')"
      ]
     },
     "execution_count": 85,
     "metadata": {},
     "output_type": "execute_result"
    },
    {
     "data": {
      "image/png": "[encoded data removed]",
      "text/plain": [
       "<Figure size 864x360 with 2 Axes>"
      ]
     },
     "metadata": {
      "needs_background": "light"
     },
     "output_type": "display_data"
    }
   ],
   "source": [
    "#plotting precision curve and recall  curve fro various thresholds\n",
    "fig,(ax1,ax2) = plt.subplots(nrows=1,ncols=2, sharex=True,figsize=(12,5))\n",
    "\n",
    "#use ax1 to plot precision\n",
    "thresh_df.plot(x='Threshold', y='Precision', legend=False, ax=ax1)\n",
    "ax1.set_ylabel('Precision')\n",
    "ax1.set_title('Precision Curve at various cut-offs')\n",
    "\n",
    "#use ax2 to plot recall\n",
    "thresh_df.plot(x='Threshold', y='Recall', legend=False, ax=ax2)\n",
    "ax2.set_ylabel('Recall')\n",
    "ax2.set_title('Recall Curve at various cut-offs')"
   ]
  },
  {
   "cell_type": "code",
   "execution_count": 86,
   "metadata": {},
   "outputs": [
    {
     "name": "stdout",
     "output_type": "stream",
     "text": [
      "Confusion Matrix: \n",
      " [[99  8]\n",
      " [ 4 60]]\n"
     ]
    },
    {
     "data": {
      "image/png": "[encoded data removed]",
      "text/plain": [
       "<Figure size 432x360 with 2 Axes>"
      ]
     },
     "metadata": {
      "needs_background": "light"
     },
     "output_type": "display_data"
    }
   ],
   "source": [
    "#Confusion Matrix\n",
    "labels=['Benign', 'Malignant']\n",
    "conf_matrix = confusion_matrix(Y_test,y_test_pred)\n",
    "print(\"Confusion Matrix: \\n\", conf_matrix)\n",
    "fig = plt.figure(figsize=(6,5))\n",
    "ax = fig.add_subplot(111)\n",
    "cax = ax.matshow(conf_matrix)\n",
    "fig.colorbar(cax)\n",
    "ax.set_xticklabels(['']+labels)\n",
    "ax.set_yticklabels(['']+labels)\n",
    "plt.xlabel('Predicted')\n",
    "plt.ylabel('True')\n",
    "plt.show()"
   ]
  },
  {
   "cell_type": "code",
   "execution_count": 87,
   "metadata": {},
   "outputs": [
    {
     "data": {
      "image/png": "[encoded data removed]",
      "text/plain": [
       "<Figure size 432x360 with 2 Axes>"
      ]
     },
     "metadata": {},
     "output_type": "display_data"
    }
   ],
   "source": [
    "#classification report\n",
    "from yellowbrick.classifier import ClassificationReport\n",
    "\n",
    "fig = plt.figure(figsize=(6,5))\n",
    "\n",
    "visualizer = ClassificationReport(logReg, classes=['Benign','Malignant'])\n",
    "visualizer.fit(X_train,Y_train)\n",
    "visualizer.score(X_test,Y_test)\n",
    "g = visualizer.poof()"
   ]
  },
  {
   "cell_type": "code",
   "execution_count": 88,
   "metadata": {},
   "outputs": [
    {
     "data": {
      "text/plain": [
       "<AxesSubplot:ylabel='Feature'>"
      ]
     },
     "execution_count": 88,
     "metadata": {},
     "output_type": "execute_result"
    },
    {
     "data": {
      "image/png": "[encoded data removed]",
      "text/plain": [
       "<Figure size 864x1080 with 1 Axes>"
      ]
     },
     "metadata": {},
     "output_type": "display_data"
    }
   ],
   "source": [
    "from sklearn.preprocessing import StandardScaler\n",
    "\n",
    "scaler = StandardScaler()\n",
    "X_train = scaler.fit_transform(X_train)\n",
    "X_test = scaler.transform(X_test)\n",
    "\n",
    "model = LogisticRegression()\n",
    "model.fit(X_train, Y_train)\n",
    "\n",
    "\n",
    "coefficients = model.coef_[0]\n",
    "\n",
    "feature_importance = pd.DataFrame({'Feature': X.columns, 'Importance': np.abs(coefficients)})\n",
    "feature_importance = feature_importance.sort_values('Importance', ascending=True)\n",
    "feature_importance.plot(x='Feature', y='Importance', kind='barh', figsize=(12, 15))"
   ]
  },
  {
   "cell_type": "markdown",
   "metadata": {},
   "source": [
    "Top 5 features:\n",
    "radius_se, smoothness_worst, compactness_se, radius_worst, concave_points_worst"
   ]
  },
  {
   "cell_type": "code",
   "execution_count": 89,
   "metadata": {},
   "outputs": [
    {
     "name": "stdout",
     "output_type": "stream",
     "text": [
      "Mean Accuracy: 0.977\n",
      "Config: {'C': 1}\n"
     ]
    }
   ],
   "source": [
    "#Parameter Tuning\n",
    "from sklearn.model_selection import GridSearchCV\n",
    "\n",
    "param_grid = {'C': [0.001, 0.01, 0.1, 1, 10, 100, 1000] }\n",
    "clf = GridSearchCV(LogisticRegression(penalty='l2'), param_grid)\n",
    "\n",
    "clf.fit(X_train,Y_train)\n",
    "clf.best_params_\n",
    "\n",
    "print('Mean Accuracy: %.3f' % clf.best_score_)\n",
    "print('Config: %s' % clf.best_params_)"
   ]
  },
  {
   "cell_type": "code",
   "execution_count": null,
   "metadata": {},
   "outputs": [],
   "source": []
  }
 ],
 "metadata": {
  "kernelspec": {
   "display_name": "Python 3",
   "language": "python",
   "name": "python3"
  },
  "language_info": {
   "codemirror_mode": {
    "name": "ipython",
    "version": 3
   },
   "file_extension": ".py",
   "mimetype": "text/x-python",
   "name": "python",
   "nbconvert_exporter": "python",
   "pygments_lexer": "ipython3",
   "version": "3.7.6"
  }
 },
 "nbformat": 4,
 "nbformat_minor": 4
}
